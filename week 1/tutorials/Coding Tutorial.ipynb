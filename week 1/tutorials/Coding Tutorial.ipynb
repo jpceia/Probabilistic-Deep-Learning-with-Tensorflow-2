{
 "cells": [
  {
   "cell_type": "code",
   "execution_count": 1,
   "metadata": {},
   "outputs": [
    {
     "name": "stdout",
     "output_type": "stream",
     "text": [
      "TF version: 2.8.0\n",
      "TFP version: 0.16.0\n"
     ]
    }
   ],
   "source": [
    "import tensorflow as tf\n",
    "import tensorflow_probability as tfp\n",
    "tfd = tfp.distributions\n",
    "\n",
    "print(\"TF version:\", tf.__version__)\n",
    "print(\"TFP version:\", tfp.__version__)"
   ]
  },
  {
   "cell_type": "code",
   "execution_count": 2,
   "metadata": {},
   "outputs": [],
   "source": [
    "# Additional imports and setting fixed random seed to have reproducibility\n",
    "\n",
    "import matplotlib.pyplot as plt\n",
    "import numpy as np\n",
    "tf.random.set_seed(123)"
   ]
  },
  {
   "cell_type": "markdown",
   "metadata": {},
   "source": [
    "# Tensorflow Distributions"
   ]
  },
  {
   "cell_type": "markdown",
   "metadata": {},
   "source": [
    "## Coding Tutorials\n",
    "#### 1. [Univariate Distributions](#univariate_distributions)\n",
    "#### 2. [Multivariate Distributions](#multivariate_distributions)\n",
    "#### 3. [The Independent Distribution](#the_independent_distribution)\n",
    "#### 4. [Sampling and log probs](#sampling_and_log_probs)\n",
    "#### 5. [Trainable Distributions](#trainable_distributions)"
   ]
  },
  {
   "cell_type": "markdown",
   "metadata": {},
   "source": [
    "***\n",
    "## Univariate distributions\n",
    "<a id='univariate_distributions'></a>"
   ]
  },
  {
   "cell_type": "code",
   "execution_count": 3,
   "metadata": {},
   "outputs": [
    {
     "data": {
      "text/plain": [
       "<tfp.distributions.Normal 'Normal' batch_shape=[] event_shape=[] dtype=float32>"
      ]
     },
     "execution_count": 3,
     "metadata": {},
     "output_type": "execute_result"
    }
   ],
   "source": [
    "# Create a normal distribution from Tensorflow Distributions\n",
    "\n",
    "normal = tfd.Normal(loc=0, scale=1)\n",
    "normal"
   ]
  },
  {
   "cell_type": "code",
   "execution_count": 4,
   "metadata": {},
   "outputs": [
    {
     "data": {
      "text/plain": [
       "<tf.Tensor: shape=(), dtype=float32, numpy=-0.89808375>"
      ]
     },
     "execution_count": 4,
     "metadata": {},
     "output_type": "execute_result"
    }
   ],
   "source": [
    "# Sample from the chosen distribution...\n",
    "\n",
    "normal.sample()"
   ]
  },
  {
   "cell_type": "code",
   "execution_count": 5,
   "metadata": {},
   "outputs": [
    {
     "data": {
      "text/plain": [
       "<tf.Tensor: shape=(10,), dtype=float32, numpy=\n",
       "array([ 0.33875433,  0.3449861 , -0.6605785 , -0.28549942,  0.43852386,\n",
       "        0.8288566 , -0.53591555, -0.5353484 , -1.0324249 , -2.942705  ],\n",
       "      dtype=float32)>"
      ]
     },
     "execution_count": 5,
     "metadata": {},
     "output_type": "execute_result"
    }
   ],
   "source": [
    "# ... or sample multiple times\n",
    "\n",
    "normal.sample(10)"
   ]
  },
  {
   "cell_type": "code",
   "execution_count": 6,
   "metadata": {},
   "outputs": [
    {
     "data": {
      "text/plain": [
       "<tf.Tensor: shape=(), dtype=float32, numpy=0.3989423>"
      ]
     },
     "execution_count": 6,
     "metadata": {},
     "output_type": "execute_result"
    }
   ],
   "source": [
    "# Obtain value of probability's density\n",
    "\n",
    "normal.prob(0)"
   ]
  },
  {
   "cell_type": "code",
   "execution_count": 7,
   "metadata": {},
   "outputs": [
    {
     "data": {
      "text/plain": [
       "<tf.Tensor: shape=(), dtype=float32, numpy=-0.9189385>"
      ]
     },
     "execution_count": 7,
     "metadata": {},
     "output_type": "execute_result"
    }
   ],
   "source": [
    "# Obtain value of logprobability\n",
    "\n",
    "normal.log_prob(0)"
   ]
  },
  {
   "cell_type": "code",
   "execution_count": 8,
   "metadata": {},
   "outputs": [
    {
     "data": {
      "text/plain": [
       "-0.9189385"
      ]
     },
     "execution_count": 8,
     "metadata": {},
     "output_type": "execute_result"
    }
   ],
   "source": [
    "# Verify that this really is the log of the probability\n",
    "\n",
    "np.log(normal.prob(0))"
   ]
  },
  {
   "cell_type": "code",
   "execution_count": 9,
   "metadata": {},
   "outputs": [
    {
     "data": {
      "image/png": "[encoded data removed]",
      "text/plain": [
       "<Figure size 432x288 with 1 Axes>"
      ]
     },
     "metadata": {
      "needs_background": "light"
     },
     "output_type": "display_data"
    }
   ],
   "source": [
    "# Plot a histogram, approximating the density\n",
    "\n",
    "plt.hist(normal.sample(10000).numpy(), bins=50, density=True)\n",
    "plt.show()"
   ]
  },
  {
   "cell_type": "code",
   "execution_count": 10,
   "metadata": {},
   "outputs": [
    {
     "data": {
      "image/png": "[encoded data removed]",
      "text/plain": [
       "<Figure size 432x288 with 1 Axes>"
      ]
     },
     "metadata": {
      "needs_background": "light"
     },
     "output_type": "display_data"
    }
   ],
   "source": [
    "# Do the same for the exponential distribution\n",
    "\n",
    "exponential = tfd.Exponential(rate=1)\n",
    "plt.hist(exponential.sample(10000).numpy(), bins=50, density=True)\n",
    "plt.show()"
   ]
  },
  {
   "cell_type": "code",
   "execution_count": 11,
   "metadata": {},
   "outputs": [
    {
     "data": {
      "text/plain": [
       "<tf.Tensor: shape=(10,), dtype=float32, numpy=\n",
       "array([0.3179616 , 0.9595855 , 0.6190708 , 1.3738598 , 1.6796894 ,\n",
       "       0.40142855, 1.6830153 , 1.78942   , 0.38126466, 0.5528394 ],\n",
       "      dtype=float32)>"
      ]
     },
     "execution_count": 11,
     "metadata": {},
     "output_type": "execute_result"
    }
   ],
   "source": [
    "# Sample as before\n",
    "\n",
    "exponential.sample(10)"
   ]
  },
  {
   "cell_type": "code",
   "execution_count": 12,
   "metadata": {},
   "outputs": [
    {
     "data": {
      "text/plain": [
       "<tf.Tensor: shape=(20,), dtype=int32, numpy=array([0, 1, 1, 0, 0, 1, 1, 0, 1, 1, 1, 0, 1, 1, 1, 0, 1, 0, 1, 1])>"
      ]
     },
     "execution_count": 12,
     "metadata": {},
     "output_type": "execute_result"
    }
   ],
   "source": [
    "# Create a Bernoulli distribution (discrete)\n",
    "\n",
    "bernoulli = tfd.Bernoulli(probs=0.8)\n",
    "bernoulli.sample(20)"
   ]
  },
  {
   "cell_type": "markdown",
   "metadata": {},
   "source": [
    "#### A word of caution on discrete distributions"
   ]
  },
  {
   "cell_type": "code",
   "execution_count": 13,
   "metadata": {},
   "outputs": [
    {
     "name": "stdout",
     "output_type": "stream",
     "text": [
      "prob result 0.20000000298023224 for k = 0 \n",
      "prob result 0.4000000059604645 for k = 0.5 \n",
      "prob result 0.800000011920929 for k = 1 \n",
      "prob result 0.05000000074505806 for k = -1 \n"
     ]
    }
   ],
   "source": [
    "# Calculate Bernoulli prob and see that 0.5 and -1 do not give the correct probability!\n",
    "\n",
    "for k in [0,0.5,1,-1]:\n",
    "    print('prob result {} for k = {} '.format(bernoulli.prob(k), k))"
   ]
  },
  {
   "cell_type": "code",
   "execution_count": 14,
   "metadata": {},
   "outputs": [],
   "source": [
    "# Replicate the scores to see what is occurring under the hood\n",
    "\n",
    "def my_bernoulli(p_success, k):\n",
    "    return np.power(p_success,k)*np.power((1-p_success),(1-k))"
   ]
  },
  {
   "cell_type": "code",
   "execution_count": 15,
   "metadata": {},
   "outputs": [
    {
     "name": "stdout",
     "output_type": "stream",
     "text": [
      "prob result 0.19999999999999996 for k = 0 \n",
      "prob result 0.3999999999999999 for k = 0.5 \n",
      "prob result 0.8 for k = 1 \n",
      "prob result 0.049999999999999975 for k = -1 \n"
     ]
    }
   ],
   "source": [
    "# Evaluate it as before\n",
    "\n",
    "for k in [0,0.5,1,-1]:\n",
    "    print('prob result {} for k = {} '.format(my_bernoulli(p_success=0.8, k=k), k))"
   ]
  },
  {
   "cell_type": "markdown",
   "metadata": {},
   "source": [
    "#### Work with batch distributions"
   ]
  },
  {
   "cell_type": "code",
   "execution_count": 16,
   "metadata": {},
   "outputs": [
    {
     "data": {
      "text/plain": [
       "<tfp.distributions.Bernoulli 'Bernoulli' batch_shape=[5] event_shape=[] dtype=int32>"
      ]
     },
     "execution_count": 16,
     "metadata": {},
     "output_type": "execute_result"
    }
   ],
   "source": [
    "# Create a batched Bernoulli distribution\n",
    "\n",
    "bernoulli_batch = tfd.Bernoulli(probs=[0.1, 0.25, 0.5, 0.75, 0.9])\n",
    "bernoulli_batch"
   ]
  },
  {
   "cell_type": "code",
   "execution_count": 17,
   "metadata": {},
   "outputs": [
    {
     "data": {
      "text/plain": [
       "<tf.Tensor: shape=(5, 5), dtype=int32, numpy=\n",
       "array([[0, 0, 0, 1, 1],\n",
       "       [0, 1, 0, 1, 1],\n",
       "       [0, 0, 1, 1, 1],\n",
       "       [0, 0, 0, 1, 1],\n",
       "       [0, 0, 0, 1, 1]])>"
      ]
     },
     "execution_count": 17,
     "metadata": {},
     "output_type": "execute_result"
    }
   ],
   "source": [
    "# Sample from it, noting the shape\n",
    "\n",
    "bernoulli_batch.sample(5)"
   ]
  },
  {
   "cell_type": "code",
   "execution_count": 18,
   "metadata": {},
   "outputs": [
    {
     "data": {
      "text/plain": [
       "<tfp.distributions.Bernoulli 'Bernoulli' batch_shape=[1, 3, 2] event_shape=[] dtype=int32>"
      ]
     },
     "execution_count": 18,
     "metadata": {},
     "output_type": "execute_result"
    }
   ],
   "source": [
    "# Use a batch shape with higher rank\n",
    "\n",
    "probs = [[[0.5, 0.5], \n",
    "          [0.8, 0.3], \n",
    "          [0.25, 0.75]]]\n",
    "bernoulli_batch_2D = tfd.Bernoulli(probs=probs)\n",
    "bernoulli_batch_2D"
   ]
  },
  {
   "cell_type": "code",
   "execution_count": 19,
   "metadata": {},
   "outputs": [
    {
     "data": {
      "text/plain": [
       "<tf.Tensor: shape=(5, 1, 3, 2), dtype=int32, numpy=\n",
       "array([[[[0, 0],\n",
       "         [1, 1],\n",
       "         [0, 1]]],\n",
       "\n",
       "\n",
       "       [[[0, 0],\n",
       "         [1, 0],\n",
       "         [0, 1]]],\n",
       "\n",
       "\n",
       "       [[[1, 0],\n",
       "         [1, 1],\n",
       "         [0, 1]]],\n",
       "\n",
       "\n",
       "       [[[1, 0],\n",
       "         [0, 0],\n",
       "         [0, 1]]],\n",
       "\n",
       "\n",
       "       [[[0, 1],\n",
       "         [1, 1],\n",
       "         [1, 0]]]])>"
      ]
     },
     "execution_count": 19,
     "metadata": {},
     "output_type": "execute_result"
    }
   ],
   "source": [
    "# Sample from this batch of distributions\n",
    "\n",
    "bernoulli_batch_2D.sample(5)"
   ]
  },
  {
   "cell_type": "code",
   "execution_count": 20,
   "metadata": {},
   "outputs": [
    {
     "data": {
      "text/plain": [
       "<tf.Tensor: shape=(1, 3, 2), dtype=float32, numpy=\n",
       "array([[[0.5 , 0.5 ],\n",
       "        [0.2 , 0.7 ],\n",
       "        [0.25, 0.75]]], dtype=float32)>"
      ]
     },
     "execution_count": 20,
     "metadata": {},
     "output_type": "execute_result"
    }
   ],
   "source": [
    "# Determine probabilities from this batch distribution\n",
    "\n",
    "bernoulli_batch_2D.prob([[[1, 0], \n",
    "                         [0, 0], \n",
    "                         [1, 1]]])"
   ]
  },
  {
   "cell_type": "markdown",
   "metadata": {},
   "source": [
    "***\n",
    "<a id='multivariate_distributions'></a>\n",
    "## Multivariate Distributions\n"
   ]
  },
  {
   "cell_type": "markdown",
   "metadata": {},
   "source": [
    "#### Basic multivariate distributions"
   ]
  },
  {
   "cell_type": "code",
   "execution_count": 21,
   "metadata": {},
   "outputs": [
    {
     "data": {
      "text/plain": [
       "<tfp.distributions.MultivariateNormalDiag 'MultivariateNormalDiag' batch_shape=[] event_shape=[2] dtype=float32>"
      ]
     },
     "execution_count": 21,
     "metadata": {},
     "output_type": "execute_result"
    }
   ],
   "source": [
    "# Define 2D multivariate Gaussian with diagonal covariance matrix\n",
    "\n",
    "normal_diag = tfd.MultivariateNormalDiag(loc=[0, 1], scale_diag=[1, 2])\n",
    "normal_diag"
   ]
  },
  {
   "cell_type": "code",
   "execution_count": 22,
   "metadata": {},
   "outputs": [
    {
     "data": {
      "text/plain": [
       "<tf.Tensor: shape=(10, 2), dtype=float32, numpy=\n",
       "array([[-0.37992278,  2.3674164 ],\n",
       "       [-2.224005  , -0.28514457],\n",
       "       [ 0.923083  , -1.4528894 ],\n",
       "       [-0.62774605, -0.33852375],\n",
       "       [-0.6252951 , -1.3324146 ],\n",
       "       [-0.42454168,  1.3192185 ],\n",
       "       [-1.702882  ,  1.8533869 ],\n",
       "       [-0.4608376 , -0.7023523 ],\n",
       "       [-1.1919353 , -0.12865639],\n",
       "       [ 0.48053816, -0.2693485 ]], dtype=float32)>"
      ]
     },
     "execution_count": 22,
     "metadata": {},
     "output_type": "execute_result"
    }
   ],
   "source": [
    "# Sample from it\n",
    "\n",
    "normal_diag.sample(10)"
   ]
  },
  {
   "cell_type": "code",
   "execution_count": 23,
   "metadata": {},
   "outputs": [
    {
     "data": {
      "image/png": "[encoded data removed]",
      "text/plain": [
       "<Figure size 432x288 with 1 Axes>"
      ]
     },
     "metadata": {
      "needs_background": "light"
     },
     "output_type": "display_data"
    }
   ],
   "source": [
    "# Make a plot\n",
    "\n",
    "plt_sample = normal_diag.sample(10000)\n",
    "plt.scatter(plt_sample[:, 0].numpy(), plt_sample[:, 1], marker='.', alpha=0.05)\n",
    "plt.axis('equal')\n",
    "plt.show()"
   ]
  },
  {
   "cell_type": "markdown",
   "metadata": {},
   "source": [
    "#### Batches of multivariate distributions"
   ]
  },
  {
   "cell_type": "code",
   "execution_count": 24,
   "metadata": {},
   "outputs": [
    {
     "data": {
      "text/plain": [
       "<tfp.distributions.MultivariateNormalDiag 'MultivariateNormalDiag' batch_shape=[3] event_shape=[2] dtype=float32>"
      ]
     },
     "execution_count": 24,
     "metadata": {},
     "output_type": "execute_result"
    }
   ],
   "source": [
    "# Create three \"batches\" of multivariate normals\n",
    "\n",
    "normal_diag_batch = tfd.MultivariateNormalDiag(loc=[[0, 0], [0, 0], [0, 0]],\n",
    "                                              scale_diag=[[1, 2], [2, 1], [2, 2]])\n",
    "normal_diag_batch"
   ]
  },
  {
   "cell_type": "code",
   "execution_count": 25,
   "metadata": {},
   "outputs": [
    {
     "data": {
      "text/plain": [
       "<tf.Tensor: shape=(5, 3, 2), dtype=float32, numpy=\n",
       "array([[[-0.8012545 , -2.128108  ],\n",
       "        [ 2.0774975 , -2.7921855 ],\n",
       "        [ 0.52665955,  0.60957587]],\n",
       "\n",
       "       [[ 0.9923561 , -0.9778331 ],\n",
       "        [-0.8376892 ,  0.70630246],\n",
       "        [-1.0894657 , -0.65969497]],\n",
       "\n",
       "       [[-1.6264789 ,  2.2429497 ],\n",
       "        [-4.3018756 , -0.7626804 ],\n",
       "        [-0.4345196 , -0.57022095]],\n",
       "\n",
       "       [[ 0.7307566 ,  2.8356621 ],\n",
       "        [ 1.8173586 ,  1.2079152 ],\n",
       "        [-3.2939956 ,  2.33647   ]],\n",
       "\n",
       "       [[-0.24759005,  0.56306183],\n",
       "        [-0.60534286,  0.06578209],\n",
       "        [ 1.4922864 , -0.55439734]]], dtype=float32)>"
      ]
     },
     "execution_count": 25,
     "metadata": {},
     "output_type": "execute_result"
    }
   ],
   "source": [
    "# Sample from it\n",
    "\n",
    "samples = normal_diag_batch.sample(5)\n",
    "samples"
   ]
  },
  {
   "cell_type": "code",
   "execution_count": 26,
   "metadata": {},
   "outputs": [
    {
     "data": {
      "text/plain": [
       "<tf.Tensor: shape=(5, 3), dtype=float32, numpy=\n",
       "array([[-3.4181342, -6.9686737, -3.3052907],\n",
       "       [-3.142929 , -2.8681712, -3.426938 ],\n",
       "       [-4.482594 , -5.135132 , -3.2884164],\n",
       "       [-3.8031492, -3.6734028, -5.262859 ],\n",
       "       [-2.6013045, -2.5789928, -3.5409558]], dtype=float32)>"
      ]
     },
     "execution_count": 26,
     "metadata": {},
     "output_type": "execute_result"
    }
   ],
   "source": [
    "# Compute log probs\n",
    "\n",
    "normal_diag_batch.log_prob(samples)"
   ]
  },
  {
   "cell_type": "code",
   "execution_count": 27,
   "metadata": {},
   "outputs": [
    {
     "data": {
      "text/plain": [
       "(10000, 3, 2)"
      ]
     },
     "execution_count": 27,
     "metadata": {},
     "output_type": "execute_result"
    }
   ],
   "source": [
    "# Create a sample for a plot -- notice the shape\n",
    "\n",
    "plt_sample_batch = normal_diag_batch.sample(10000).numpy()\n",
    "plt_sample_batch.shape"
   ]
  },
  {
   "cell_type": "code",
   "execution_count": 28,
   "metadata": {},
   "outputs": [
    {
     "data": {
      "image/png": "[encoded data removed]",
      "text/plain": [
       "<Figure size 720x216 with 3 Axes>"
      ]
     },
     "metadata": {
      "needs_background": "light"
     },
     "output_type": "display_data"
    }
   ],
   "source": [
    "# Plot samples from the batched multivariate Gaussian\n",
    "\n",
    "fig, axs = (plt.subplots(1, 3, sharex=True, sharey=True, figsize=(10, 3)))\n",
    "titles = ['cov_diag=[1, 2]','cov_diag=[2, 1]', 'cov_diag=[2, 2]']\n",
    "\n",
    "for i, (ax, title) in enumerate(zip(axs,titles)):\n",
    "    samples = plt_sample_batch[:,i,:] #take the ith batch [samples x event_shape]\n",
    "    ax.scatter(samples[:, 0], samples[:, 1], marker='.', alpha=0.05)\n",
    "    ax.set_title(title)\n",
    "plt.show()"
   ]
  },
  {
   "cell_type": "markdown",
   "metadata": {},
   "source": [
    "\n",
    "\n",
    "***\n",
    "<a id='the_independent_distribution'></a>\n",
    "## The Independent Distribution"
   ]
  },
  {
   "cell_type": "code",
   "execution_count": 29,
   "metadata": {},
   "outputs": [],
   "source": [
    "# Start by defining a batch of two univariate Gaussians, then\n",
    "# combine them into a bivariate Gaussian with independent components\n",
    "\n",
    "locs = [-1., 1.]\n",
    "scales = [0.5, 1.]\n",
    "batch_of_normals = tfd.Normal(loc=locs, scale=scales)"
   ]
  },
  {
   "cell_type": "code",
   "execution_count": 30,
   "metadata": {},
   "outputs": [
    {
     "data": {
      "image/png": "[encoded data removed]",
      "text/plain": [
       "<Figure size 432x288 with 1 Axes>"
      ]
     },
     "metadata": {
      "needs_background": "light"
     },
     "output_type": "display_data"
    }
   ],
   "source": [
    "# Univariate density functions\n",
    "\n",
    "import seaborn as sns\n",
    "\n",
    "t = np.linspace(-4, 4, 10000)\n",
    "densities = batch_of_normals.prob(np.repeat(t[:, np.newaxis], 2, axis=1)).numpy() # each column is a vector of densities for one distn\n",
    "\n",
    "sns.lineplot(x=t, y=densities[:, 0], label='loc={}, scale={}'.format(locs[0], scales[0]))\n",
    "sns.lineplot(x=t, y=densities[:, 1], label='loc={}, scale={}'.format(locs[1], scales[1]))\n",
    "plt.ylabel('Probability density')\n",
    "plt.xlabel('Value')\n",
    "plt.legend()\n",
    "plt.show()"
   ]
  },
  {
   "cell_type": "code",
   "execution_count": 31,
   "metadata": {},
   "outputs": [
    {
     "data": {
      "text/plain": [
       "<tfp.distributions.Normal 'Normal' batch_shape=[2] event_shape=[] dtype=float32>"
      ]
     },
     "execution_count": 31,
     "metadata": {},
     "output_type": "execute_result"
    }
   ],
   "source": [
    "# Check their batch_shape and event_shape\n",
    "\n",
    "batch_of_normals"
   ]
  },
  {
   "cell_type": "code",
   "execution_count": 32,
   "metadata": {},
   "outputs": [],
   "source": [
    "# Use Independent to convert the batch shape to the event shape\n",
    "\n",
    "bivariate_normal_from_Independent = tfd.Independent(batch_of_normals,\n",
    "                                                   reinterpreted_batch_ndims=1)"
   ]
  },
  {
   "cell_type": "code",
   "execution_count": 33,
   "metadata": {},
   "outputs": [
    {
     "data": {
      "text/plain": [
       "<tfp.distributions.Independent 'IndependentNormal' batch_shape=[] event_shape=[2] dtype=float32>"
      ]
     },
     "execution_count": 33,
     "metadata": {},
     "output_type": "execute_result"
    }
   ],
   "source": [
    "# Note that dimension from batch_shape has shifted to event_shape\n",
    "\n",
    "bivariate_normal_from_Independent"
   ]
  },
  {
   "cell_type": "code",
   "execution_count": 34,
   "metadata": {},
   "outputs": [
    {
     "data": {
      "text/plain": [
       "<seaborn.axisgrid.JointGrid at 0x2633ea34190>"
      ]
     },
     "execution_count": 34,
     "metadata": {},
     "output_type": "execute_result"
    },
    {
     "data": {
      "image/png": "[encoded data removed]",
      "text/plain": [
       "<Figure size 432x432 with 3 Axes>"
      ]
     },
     "metadata": {
      "needs_background": "light"
     },
     "output_type": "display_data"
    }
   ],
   "source": [
    "# Create a plot showing joint density contours and marginal density functions\n",
    "\n",
    "samples = bivariate_normal_from_Independent.sample(10000).numpy()\n",
    "x1 = samples[:, 0]\n",
    "x2 = samples[:, 1]\n",
    "sns.jointplot(x=x1, y=x2, kind=\"kde\", space=0, color='b', xlim=[-4, 4], ylim=[-4, 4])"
   ]
  },
  {
   "cell_type": "code",
   "execution_count": 35,
   "metadata": {},
   "outputs": [],
   "source": [
    "# Use MultivariateNormalDiag to create the equivalent distribution\n",
    "# Note that diagonal covariance matrix => no correlation => independence (for the multivariate normal distribution)\n",
    "\n",
    "bivariate_normal_from_Multivariate = tfd.MultivariateNormalDiag(loc=locs, scale_diag=scales)"
   ]
  },
  {
   "cell_type": "code",
   "execution_count": 36,
   "metadata": {},
   "outputs": [
    {
     "data": {
      "text/plain": [
       "<seaborn.axisgrid.JointGrid at 0x2637bd1d3d0>"
      ]
     },
     "execution_count": 36,
     "metadata": {},
     "output_type": "execute_result"
    },
    {
     "data": {
      "image/png": "[encoded data removed]",
      "text/plain": [
       "<Figure size 432x432 with 3 Axes>"
      ]
     },
     "metadata": {
      "needs_background": "light"
     },
     "output_type": "display_data"
    }
   ],
   "source": [
    "# Plot the joint density function of bivariate_normal_from_Independent\n",
    "# Refer back to bivariate_normal_from_Independent to show that the plot is the same\n",
    "# Summarise how Independent has been used\n",
    "\n",
    "samples = bivariate_normal_from_Multivariate.sample(10000).numpy()\n",
    "x1 = samples[:, 0]\n",
    "x2 = samples[:, 1]\n",
    "sns.jointplot(x=x1, y=x2, kind=\"kde\", space=0, color='b', xlim=[-4, 4], ylim=[-4, 4])"
   ]
  },
  {
   "cell_type": "markdown",
   "metadata": {},
   "source": [
    "#### Shifting batch dimensions to event dimensions using \n",
    "`reinterpreted_batch_ndims`"
   ]
  },
  {
   "cell_type": "code",
   "execution_count": 37,
   "metadata": {},
   "outputs": [],
   "source": [
    "# Demonstrate use of reinterpreted_batch_ndims\n",
    "# By default all batch dims except the first are transferred to event dims\n",
    "\n",
    "loc_grid = [[-100., -100.],\n",
    "            [100., 100.],\n",
    "            [0., 0.]]\n",
    "scale_grid = [[1., 10.],\n",
    "              [1., 10.],\n",
    "              [1., 1.]]\n",
    "\n",
    "normals_batch_3by2_event_1 = tfd.Normal(loc=loc_grid, scale=scale_grid)"
   ]
  },
  {
   "cell_type": "code",
   "execution_count": 38,
   "metadata": {},
   "outputs": [
    {
     "data": {
      "text/plain": [
       "<tfp.distributions.Normal 'Normal' batch_shape=[3, 2] event_shape=[] dtype=float32>"
      ]
     },
     "execution_count": 38,
     "metadata": {},
     "output_type": "execute_result"
    }
   ],
   "source": [
    "# Highlight batch_shape\n",
    "\n",
    "normals_batch_3by2_event_1"
   ]
  },
  {
   "cell_type": "code",
   "execution_count": 39,
   "metadata": {},
   "outputs": [
    {
     "name": "stdout",
     "output_type": "stream",
     "text": [
      "WARNING:tensorflow:From C:\\ProgramData\\Anaconda3\\lib\\site-packages\\tensorflow_probability\\python\\distributions\\distribution.py:342: calling _Independent.__init__ (from tensorflow_probability.python.distributions.independent) with reinterpreted_batch_ndims=None is deprecated and will be removed after 2022-03-01.\n",
      "Instructions for updating:\n",
      "Please pass an integer value for `reinterpreted_batch_ndims`. The current behavior corresponds to `reinterpreted_batch_ndims=tf.size(distribution.batch_shape_tensor()) - 1`.\n"
     ]
    },
    {
     "data": {
      "text/plain": [
       "<tfp.distributions.Independent 'IndependentNormal' batch_shape=[3] event_shape=[2] dtype=float32>"
      ]
     },
     "execution_count": 39,
     "metadata": {},
     "output_type": "execute_result"
    }
   ],
   "source": [
    "# We now have a batch of 3 bivariate normal distributions,\n",
    "# each parametrised by a column of our original parameter grid\n",
    "\n",
    "normals_batch_3_event_2 = tfd.Independent(normals_batch_3by2_event_1)\n",
    "normals_batch_3_event_2"
   ]
  },
  {
   "cell_type": "code",
   "execution_count": 40,
   "metadata": {},
   "outputs": [
    {
     "data": {
      "text/plain": [
       "<tf.Tensor: shape=(3,), dtype=float32, numpy=array([-4.1146406e+03, -4.1404624e+00, -2.8378770e+00], dtype=float32)>"
      ]
     },
     "execution_count": 40,
     "metadata": {},
     "output_type": "execute_result"
    }
   ],
   "source": [
    "# Evaluate log_prob\n",
    "\n",
    "normals_batch_3_event_2.log_prob(value=[[-10., 10.],\n",
    "                                        [100., 100.],\n",
    "                                        [1., 1.]])"
   ]
  },
  {
   "cell_type": "code",
   "execution_count": 41,
   "metadata": {},
   "outputs": [
    {
     "data": {
      "text/plain": [
       "<tfp.distributions.Independent 'IndependentNormal' batch_shape=[] event_shape=[3, 2] dtype=float32>"
      ]
     },
     "execution_count": 41,
     "metadata": {},
     "output_type": "execute_result"
    }
   ],
   "source": [
    "# Can reinterpret _all_ batch dimensions as event dimensions\n",
    "\n",
    "normals_batch_1_event_3by2 = tfd.Independent(normals_batch_3by2_event_1,\n",
    "                                            reinterpreted_batch_ndims=2)\n",
    "normals_batch_1_event_3by2"
   ]
  },
  {
   "cell_type": "code",
   "execution_count": 42,
   "metadata": {},
   "outputs": [
    {
     "data": {
      "text/plain": [
       "<tf.Tensor: shape=(), dtype=float32, numpy=-4121.619>"
      ]
     },
     "execution_count": 42,
     "metadata": {},
     "output_type": "execute_result"
    }
   ],
   "source": [
    "# Take log_probs \n",
    "\n",
    "normals_batch_1_event_3by2.log_prob(value=[[-10., 10.],\n",
    "                                           [100., 100.],\n",
    "                                           [1., 1.]])"
   ]
  },
  {
   "cell_type": "markdown",
   "metadata": {},
   "source": [
    "#### Using `Independent` to build a Naive Bayes classifier"
   ]
  },
  {
   "cell_type": "markdown",
   "metadata": {},
   "source": [
    "#### Introduction to `newsgroups` data set"
   ]
  },
  {
   "cell_type": "markdown",
   "metadata": {},
   "source": [
    "In this tutorial, just load the dataset, fetch train/test splits, probably choose a subset of the data.\n",
    "\n",
    "Construct the class conditional feature distribution (with Independent, using the Naive Bayes assumption) and sample from it.\n",
    "\n",
    "We can just use the ML estimates for parameters, in later tutorials we will learn them."
   ]
  },
  {
   "cell_type": "code",
   "execution_count": 43,
   "metadata": {},
   "outputs": [],
   "source": [
    "# Convenience function for retrieving the 20 newsgroups data set\n",
    "\n",
    "# Usenet was a forerunner to modern internet forums\n",
    "# Users could post and read articles\n",
    "# Newsgroup corresponded to a topic\n",
    "# Example topics in this data set: IBM computer hardware, baseball\n",
    "# Our objective is to use an article's contents to predict its newsgroup,\n",
    "# a 20-class classification problem.\n",
    "\n",
    "# 18000 newsgroups, posts on 20 topics\n",
    "from sklearn.datasets import fetch_20newsgroups\n",
    "from sklearn.feature_extraction.text import CountVectorizer\n"
   ]
  },
  {
   "cell_type": "code",
   "execution_count": 44,
   "metadata": {},
   "outputs": [],
   "source": [
    "# Get the train data\n",
    "\n",
    "newsgroups_data = fetch_20newsgroups(data_home='20_Newsgroup_Data/', subset='train')"
   ]
  },
  {
   "cell_type": "code",
   "execution_count": 45,
   "metadata": {},
   "outputs": [
    {
     "name": "stdout",
     "output_type": "stream",
     "text": [
      ".. _20newsgroups_dataset:\n",
      "\n",
      "The 20 newsgroups text dataset\n",
      "------------------------------\n",
      "\n",
      "The 20 newsgroups dataset comprises around 18000 newsgroups posts on\n",
      "20 topics split in two subsets: one for training (or development)\n",
      "and the other one for testing (or for performance evaluation). The split\n",
      "between the train and test set is based upon a messages posted before\n",
      "and after a specific date.\n",
      "\n",
      "This module contains two loaders. The first one,\n",
      ":func:`sklearn.datasets.fetch_20newsgroups`,\n",
      "returns a list of the raw texts that can be fed to text feature\n",
      "extractors such as :class:`~sklearn.feature_extraction.text.CountVectorizer`\n",
      "with custom parameters so as to extract feature vectors.\n",
      "The second one, :func:`sklearn.datasets.fetch_20newsgroups_vectorized`,\n",
      "returns ready-to-use features, i.e., it is not necessary to use a feature\n",
      "extractor.\n",
      "\n",
      "**Data Set Characteristics:**\n",
      "\n",
      "    =================   ==========\n",
      "    Classes                     20\n",
      "    Samples total            18846\n",
      "    Dimensionality               1\n",
      "    Features                  text\n",
      "    =================   ==========\n",
      "\n",
      "Usage\n",
      "~~~~~\n",
      "\n",
      "The :func:`sklearn.datasets.fetch_20newsgroups` function is a data\n",
      "fetching / caching functions that downloads the data archive from\n",
      "the original `20 newsgroups website`_, extracts the archive contents\n",
      "in the ``~/scikit_learn_data/20news_home`` folder and calls the\n",
      ":func:`sklearn.datasets.load_files` on either the training or\n",
      "testing set folder, or both of them::\n",
      "\n",
      "  >>> from sklearn.datasets import fetch_20newsgroups\n",
      "  >>> newsgroups_train = fetch_20newsgroups(subset='train')\n",
      "\n",
      "  >>> from pprint import pprint\n",
      "  >>> pprint(list(newsgroups_train.target_names))\n",
      "  ['alt.atheism',\n",
      "   'comp.graphics',\n",
      "   'comp.os.ms-windows.misc',\n",
      "   'comp.sys.ibm.pc.hardware',\n",
      "   'comp.sys.mac.hardware',\n",
      "   'comp.windows.x',\n",
      "   'misc.forsale',\n",
      "   'rec.autos',\n",
      "   'rec.motorcycles',\n",
      "   'rec.sport.baseball',\n",
      "   'rec.sport.hockey',\n",
      "   'sci.crypt',\n",
      "   'sci.electronics',\n",
      "   'sci.med',\n",
      "   'sci.space',\n",
      "   'soc.religion.christian',\n",
      "   'talk.politics.guns',\n",
      "   'talk.politics.mideast',\n",
      "   'talk.politics.misc',\n",
      "   'talk.religion.misc']\n",
      "\n",
      "The real data lies in the ``filenames`` and ``target`` attributes. The target\n",
      "attribute is the integer index of the category::\n",
      "\n",
      "  >>> newsgroups_train.filenames.shape\n",
      "  (11314,)\n",
      "  >>> newsgroups_train.target.shape\n",
      "  (11314,)\n",
      "  >>> newsgroups_train.target[:10]\n",
      "  array([ 7,  4,  4,  1, 14, 16, 13,  3,  2,  4])\n",
      "\n",
      "It is possible to load only a sub-selection of the categories by passing the\n",
      "list of the categories to load to the\n",
      ":func:`sklearn.datasets.fetch_20newsgroups` function::\n",
      "\n",
      "  >>> cats = ['alt.atheism', 'sci.space']\n",
      "  >>> newsgroups_train = fetch_20newsgroups(subset='train', categories=cats)\n",
      "\n",
      "  >>> list(newsgroups_train.target_names)\n",
      "  ['alt.atheism', 'sci.space']\n",
      "  >>> newsgroups_train.filenames.shape\n",
      "  (1073,)\n",
      "  >>> newsgroups_train.target.shape\n",
      "  (1073,)\n",
      "  >>> newsgroups_train.target[:10]\n",
      "  array([0, 1, 1, 1, 0, 1, 1, 0, 0, 0])\n",
      "\n",
      "Converting text to vectors\n",
      "~~~~~~~~~~~~~~~~~~~~~~~~~~\n",
      "\n",
      "In order to feed predictive or clustering models with the text data,\n",
      "one first need to turn the text into vectors of numerical values suitable\n",
      "for statistical analysis. This can be achieved with the utilities of the\n",
      "``sklearn.feature_extraction.text`` as demonstrated in the following\n",
      "example that extract `TF-IDF`_ vectors of unigram tokens\n",
      "from a subset of 20news::\n",
      "\n",
      "  >>> from sklearn.feature_extraction.text import TfidfVectorizer\n",
      "  >>> categories = ['alt.atheism', 'talk.religion.misc',\n",
      "  ...               'comp.graphics', 'sci.space']\n",
      "  >>> newsgroups_train = fetch_20newsgroups(subset='train',\n",
      "  ...                                       categories=categories)\n",
      "  >>> vectorizer = TfidfVectorizer()\n",
      "  >>> vectors = vectorizer.fit_transform(newsgroups_train.data)\n",
      "  >>> vectors.shape\n",
      "  (2034, 34118)\n",
      "\n",
      "The extracted TF-IDF vectors are very sparse, with an average of 159 non-zero\n",
      "components by sample in a more than 30000-dimensional space\n",
      "(less than .5% non-zero features)::\n",
      "\n",
      "  >>> vectors.nnz / float(vectors.shape[0])\n",
      "  159.01327...\n",
      "\n",
      ":func:`sklearn.datasets.fetch_20newsgroups_vectorized` is a function which \n",
      "returns ready-to-use token counts features instead of file names.\n",
      "\n",
      ".. _`20 newsgroups website`: http://people.csail.mit.edu/jrennie/20Newsgroups/\n",
      ".. _`TF-IDF`: https://en.wikipedia.org/wiki/Tf-idf\n",
      "\n",
      "\n",
      "Filtering text for more realistic training\n",
      "~~~~~~~~~~~~~~~~~~~~~~~~~~~~~~~~~~~~~~~~~~\n",
      "\n",
      "It is easy for a classifier to overfit on particular things that appear in the\n",
      "20 Newsgroups data, such as newsgroup headers. Many classifiers achieve very\n",
      "high F-scores, but their results would not generalize to other documents that\n",
      "aren't from this window of time.\n",
      "\n",
      "For example, let's look at the results of a multinomial Naive Bayes classifier,\n",
      "which is fast to train and achieves a decent F-score::\n",
      "\n",
      "  >>> from sklearn.naive_bayes import MultinomialNB\n",
      "  >>> from sklearn import metrics\n",
      "  >>> newsgroups_test = fetch_20newsgroups(subset='test',\n",
      "  ...                                      categories=categories)\n",
      "  >>> vectors_test = vectorizer.transform(newsgroups_test.data)\n",
      "  >>> clf = MultinomialNB(alpha=.01)\n",
      "  >>> clf.fit(vectors, newsgroups_train.target)\n",
      "  MultinomialNB(alpha=0.01, class_prior=None, fit_prior=True)\n",
      "\n",
      "  >>> pred = clf.predict(vectors_test)\n",
      "  >>> metrics.f1_score(newsgroups_test.target, pred, average='macro')\n",
      "  0.88213...\n",
      "\n",
      "(The example :ref:`sphx_glr_auto_examples_text_plot_document_classification_20newsgroups.py` shuffles\n",
      "the training and test data, instead of segmenting by time, and in that case\n",
      "multinomial Naive Bayes gets a much higher F-score of 0.88. Are you suspicious\n",
      "yet of what's going on inside this classifier?)\n",
      "\n",
      "Let's take a look at what the most informative features are:\n",
      "\n",
      "  >>> import numpy as np\n",
      "  >>> def show_top10(classifier, vectorizer, categories):\n",
      "  ...     feature_names = np.asarray(vectorizer.get_feature_names())\n",
      "  ...     for i, category in enumerate(categories):\n",
      "  ...         top10 = np.argsort(classifier.coef_[i])[-10:]\n",
      "  ...         print(\"%s: %s\" % (category, \" \".join(feature_names[top10])))\n",
      "  ...\n",
      "  >>> show_top10(clf, vectorizer, newsgroups_train.target_names)\n",
      "  alt.atheism: edu it and in you that is of to the\n",
      "  comp.graphics: edu in graphics it is for and of to the\n",
      "  sci.space: edu it that is in and space to of the\n",
      "  talk.religion.misc: not it you in is that and to of the\n",
      "\n",
      "\n",
      "You can now see many things that these features have overfit to:\n",
      "\n",
      "- Almost every group is distinguished by whether headers such as\n",
      "  ``NNTP-Posting-Host:`` and ``Distribution:`` appear more or less often.\n",
      "- Another significant feature involves whether the sender is affiliated with\n",
      "  a university, as indicated either by their headers or their signature.\n",
      "- The word \"article\" is a significant feature, based on how often people quote\n",
      "  previous posts like this: \"In article [article ID], [name] <[e-mail address]>\n",
      "  wrote:\"\n",
      "- Other features match the names and e-mail addresses of particular people who\n",
      "  were posting at the time.\n",
      "\n",
      "With such an abundance of clues that distinguish newsgroups, the classifiers\n",
      "barely have to identify topics from text at all, and they all perform at the\n",
      "same high level.\n",
      "\n",
      "For this reason, the functions that load 20 Newsgroups data provide a\n",
      "parameter called **remove**, telling it what kinds of information to strip out\n",
      "of each file. **remove** should be a tuple containing any subset of\n",
      "``('headers', 'footers', 'quotes')``, telling it to remove headers, signature\n",
      "blocks, and quotation blocks respectively.\n",
      "\n",
      "  >>> newsgroups_test = fetch_20newsgroups(subset='test',\n",
      "  ...                                      remove=('headers', 'footers', 'quotes'),\n",
      "  ...                                      categories=categories)\n",
      "  >>> vectors_test = vectorizer.transform(newsgroups_test.data)\n",
      "  >>> pred = clf.predict(vectors_test)\n",
      "  >>> metrics.f1_score(pred, newsgroups_test.target, average='macro')\n",
      "  0.77310...\n",
      "\n",
      "This classifier lost over a lot of its F-score, just because we removed\n",
      "metadata that has little to do with topic classification.\n",
      "It loses even more if we also strip this metadata from the training data:\n",
      "\n",
      "  >>> newsgroups_train = fetch_20newsgroups(subset='train',\n",
      "  ...                                       remove=('headers', 'footers', 'quotes'),\n",
      "  ...                                       categories=categories)\n",
      "  >>> vectors = vectorizer.fit_transform(newsgroups_train.data)\n",
      "  >>> clf = MultinomialNB(alpha=.01)\n",
      "  >>> clf.fit(vectors, newsgroups_train.target)\n",
      "  MultinomialNB(alpha=0.01, class_prior=None, fit_prior=True)\n",
      "\n",
      "  >>> vectors_test = vectorizer.transform(newsgroups_test.data)\n",
      "  >>> pred = clf.predict(vectors_test)\n",
      "  >>> metrics.f1_score(newsgroups_test.target, pred, average='macro')\n",
      "  0.76995...\n",
      "\n",
      "Some other classifiers cope better with this harder version of the task. Try\n",
      "running :ref:`sphx_glr_auto_examples_model_selection_grid_search_text_feature_extraction.py` with and without\n",
      "the ``--filter`` option to compare the results.\n",
      "\n",
      ".. topic:: Recommendation\n",
      "\n",
      "  When evaluating text classifiers on the 20 Newsgroups data, you\n",
      "  should strip newsgroup-related metadata. In scikit-learn, you can do this by\n",
      "  setting ``remove=('headers', 'footers', 'quotes')``. The F-score will be\n",
      "  lower because it is more realistic.\n",
      "\n",
      ".. topic:: Examples\n",
      "\n",
      "   * :ref:`sphx_glr_auto_examples_model_selection_grid_search_text_feature_extraction.py`\n",
      "\n",
      "   * :ref:`sphx_glr_auto_examples_text_plot_document_classification_20newsgroups.py`\n",
      "\n"
     ]
    }
   ],
   "source": [
    "# More information about the data set\n",
    "\n",
    "print(newsgroups_data['DESCR'])"
   ]
  },
  {
   "cell_type": "code",
   "execution_count": 46,
   "metadata": {},
   "outputs": [
    {
     "name": "stdout",
     "output_type": "stream",
     "text": [
      "From: lerxst@wam.umd.edu (where's my thing)\n",
      "Subject: WHAT car is this!?\n",
      "Nntp-Posting-Host: rac3.wam.umd.edu\n",
      "Organization: University of Maryland, College Park\n",
      "Lines: 15\n",
      "\n",
      " I was wondering if anyone out there could enlighten me on this car I saw\n",
      "the other day. It was a 2-door sports car, looked to be from the late 60s/\n",
      "early 70s. It was called a Bricklin. The doors were really small. In addition,\n",
      "the front bumper was separate from the rest of the body. This is \n",
      "all I know. If anyone can tellme a model name, engine specs, years\n",
      "of production, where this car is made, history, or whatever info you\n",
      "have on this funky looking car, please e-mail.\n",
      "\n",
      "Thanks,\n",
      "- IL\n",
      "   ---- brought to you by your neighborhood Lerxst ----\n",
      "\n",
      "\n",
      "\n",
      "\n",
      "\n"
     ]
    }
   ],
   "source": [
    "# Example article\n",
    "\n",
    "print(newsgroups_data['data'][0])"
   ]
  },
  {
   "cell_type": "code",
   "execution_count": 47,
   "metadata": {},
   "outputs": [
    {
     "data": {
      "text/plain": [
       "7"
      ]
     },
     "execution_count": 47,
     "metadata": {},
     "output_type": "execute_result"
    }
   ],
   "source": [
    "# Associated label\n",
    "\n",
    "newsgroups_data['target'][0]"
   ]
  },
  {
   "cell_type": "code",
   "execution_count": 48,
   "metadata": {},
   "outputs": [
    {
     "data": {
      "text/plain": [
       "'rec.autos'"
      ]
     },
     "execution_count": 48,
     "metadata": {},
     "output_type": "execute_result"
    }
   ],
   "source": [
    "# Name of label\n",
    "\n",
    "newsgroups_data['target_names'][7]"
   ]
  },
  {
   "cell_type": "code",
   "execution_count": 49,
   "metadata": {},
   "outputs": [],
   "source": [
    "# Preprocessing boilerplate\n",
    "\n",
    "n_documents = len(newsgroups_data['data'])\n",
    "\n",
    "count_vectorizer = CountVectorizer(input='content', binary=True,\n",
    "                                   max_df=0.25, min_df=1.01/n_documents) # ignore common words, words that appear once\n",
    "binary_bag_of_words = count_vectorizer.fit_transform(newsgroups_data['data']) # input is a list of strings\n"
   ]
  },
  {
   "cell_type": "code",
   "execution_count": 50,
   "metadata": {},
   "outputs": [
    {
     "data": {
      "text/plain": [
       "(11314, 56365)"
      ]
     },
     "execution_count": 50,
     "metadata": {},
     "output_type": "execute_result"
    }
   ],
   "source": [
    "# Check shape\n",
    "\n",
    "binary_bag_of_words.shape"
   ]
  },
  {
   "cell_type": "code",
   "execution_count": 51,
   "metadata": {},
   "outputs": [
    {
     "data": {
      "text/plain": [
       "[array(['lerxst', 'wam', 'umd', 'where', 'thing', 'car', 'rac3',\n",
       "        'maryland', 'college', 'park', '15', 'wondering', 'anyone',\n",
       "        'could', 'enlighten', 'saw', 'day', 'door', 'sports', 'looked',\n",
       "        'late', '60s', 'early', '70s', 'called', 'bricklin', 'doors',\n",
       "        'were', 'really', 'small', 'addition', 'front', 'bumper',\n",
       "        'separate', 'rest', 'body', 'tellme', 'model', 'name', 'engine',\n",
       "        'specs', 'years', 'production', 'made', 'history', 'whatever',\n",
       "        'info', 'funky', 'looking', 'please', 'mail', 'thanks', 'il',\n",
       "        'brought', 'neighborhood'], dtype='<U80')]"
      ]
     },
     "execution_count": 51,
     "metadata": {},
     "output_type": "execute_result"
    }
   ],
   "source": [
    "# Check that the fit has been successful\n",
    "\n",
    "count_vectorizer.inverse_transform(binary_bag_of_words[0])"
   ]
  },
  {
   "cell_type": "code",
   "execution_count": 52,
   "metadata": {},
   "outputs": [],
   "source": [
    "# Dict that will be useful later \n",
    "\n",
    "inv_vocabulary = {value:key for key, value in count_vectorizer.vocabulary_.items()}"
   ]
  },
  {
   "cell_type": "markdown",
   "metadata": {},
   "source": [
    "#### A Naive Bayes classifier for `newsgroup`"
   ]
  },
  {
   "cell_type": "markdown",
   "metadata": {},
   "source": [
    "Each feature vector $x$ is a list of indicators for whether a word appears in the article. $x_i$ is 1 if the $i$th word appears, and 0 otherwise. `inv_vocabulary` matches word indices $i$ to words.\n",
    "\n",
    "Each label $y$ is a value in $0, 1, \\ldots, 19$.\n",
    "\n",
    "The parts of a naive Bayes classifier for this problem can be summarised as:  \n",
    "\n",
    "\n",
    "- A probability distribution for the feature vector by class, $p(x|y = j)$ for each $j = 0, 1, \\ldots, 19$. These probability distributions are assumed to have independent components: we can factorize the joint probability as a product of marginal probabilities\n",
    "\\begin{equation}\n",
    "    p(x|y = j) = \\prod_{i=1}^d p(x_i|y = j)\n",
    "\\end{equation}\n",
    "These marginal probability distributions are Bernoulli distributions, each of which has a single parameter $\\theta_{ji} := p(x_i = 1|y = j)$. This parameter is the probability of observing word $i$ in an article of class $j$. \n",
    "\n",
    "- We will use the Laplace smoothed maximum likelihood estimate to compute these parameters. Laplace smoothing involves adding small counts to every feature for each class. Else, if a feature did not appear in the training set of a class, but then we observed it in our test data the log probability would be undefined.\n",
    "\n",
    "- A collection of class prior probabilities $p(y = j)$. These will be set by computing the class base rates in the training set.  \n",
    "\n",
    "\n",
    "- A function for computing the probability of class membership via Bayes' theorem:  \n",
    "\n",
    "\\begin{equation}\n",
    "    p(y = j|x) = \\frac{p(x|y = j)p(y = j)}{p(x)}\n",
    "\\end{equation}"
   ]
  },
  {
   "cell_type": "code",
   "execution_count": 53,
   "metadata": {},
   "outputs": [],
   "source": [
    "# Compute the parameter estimates (adjusted fraction of documents in class that contain word)\n",
    "\n",
    "n_classes = newsgroups_data['target'].max() + 1\n",
    "y = newsgroups_data['target']\n",
    "n_words = binary_bag_of_words.shape[1]\n",
    "\n",
    "alpha = 1e-6 # parameters for Laplace smoothing\n",
    "\n",
    "theta = np.zeros([n_classes, n_words]) # stores parameter values - prob. word given class\n",
    "for c_k in range(n_classes): # 0, 1, ..., 19\n",
    "    class_mask = (y == c_k)\n",
    "    N = class_mask.sum() # number of articles in class\n",
    "    theta[c_k, :] = (binary_bag_of_words[class_mask, :].sum(axis=0) + alpha)/(N + alpha*2)"
   ]
  },
  {
   "cell_type": "code",
   "execution_count": 54,
   "metadata": {},
   "outputs": [
    {
     "name": "stdout",
     "output_type": "stream",
     "text": [
      "Most probable word in class alt.atheism is \"people\".\n",
      "Most probable word in class comp.graphics is \"graphics\".\n",
      "Most probable word in class comp.os.ms-windows.misc is \"windows\".\n",
      "Most probable word in class comp.sys.ibm.pc.hardware is \"thanks\".\n",
      "Most probable word in class comp.sys.mac.hardware is \"mac\".\n",
      "Most probable word in class comp.windows.x is \"window\".\n",
      "Most probable word in class misc.forsale is \"sale\".\n",
      "Most probable word in class rec.autos is \"car\".\n",
      "Most probable word in class rec.motorcycles is \"dod\".\n",
      "Most probable word in class rec.sport.baseball is \"he\".\n",
      "Most probable word in class rec.sport.hockey is \"ca\".\n",
      "Most probable word in class sci.crypt is \"clipper\".\n",
      "Most probable word in class sci.electronics is \"use\".\n",
      "Most probable word in class sci.med is \"reply\".\n",
      "Most probable word in class sci.space is \"space\".\n",
      "Most probable word in class soc.religion.christian is \"god\".\n",
      "Most probable word in class talk.politics.guns is \"people\".\n",
      "Most probable word in class talk.politics.mideast is \"people\".\n",
      "Most probable word in class talk.politics.misc is \"people\".\n",
      "Most probable word in class talk.religion.misc is \"he\".\n"
     ]
    }
   ],
   "source": [
    "# Check whether the most probable word in each class is reasonable\n",
    "\n",
    "most_probable_word_ix = theta.argmax(axis=1) # most probable word for each class\n",
    "\n",
    "for j, ix in enumerate(most_probable_word_ix):\n",
    "    print('Most probable word in class {} is \"{}\".'.format(newsgroups_data['target_names'][j],\n",
    "                                                           inv_vocabulary[ix]))"
   ]
  },
  {
   "cell_type": "code",
   "execution_count": 55,
   "metadata": {},
   "outputs": [],
   "source": [
    "# Define a distribution for each class\n",
    "\n",
    "batch_of_bernoullis = tfd.Bernoulli(probs=theta)\n",
    "p_x_given_y = tfd.Independent(batch_of_bernoullis,\n",
    "                              reinterpreted_batch_ndims=1)"
   ]
  },
  {
   "cell_type": "code",
   "execution_count": 56,
   "metadata": {},
   "outputs": [
    {
     "data": {
      "text/plain": [
       "TensorShape([10, 20, 56365])"
      ]
     },
     "execution_count": 56,
     "metadata": {},
     "output_type": "execute_result"
    }
   ],
   "source": [
    "# Take a sample of words from each class\n",
    "\n",
    "n_samples = 10\n",
    "sample = p_x_given_y.sample(n_samples)\n",
    "sample.shape"
   ]
  },
  {
   "cell_type": "code",
   "execution_count": 57,
   "metadata": {},
   "outputs": [
    {
     "data": {
      "text/plain": [
       "'soc.religion.christian'"
      ]
     },
     "execution_count": 57,
     "metadata": {},
     "output_type": "execute_result"
    }
   ],
   "source": [
    "# Choose a class\n",
    "\n",
    "chosen_class = 15\n",
    "newsgroups_data['target_names'][chosen_class]"
   ]
  },
  {
   "cell_type": "code",
   "execution_count": 58,
   "metadata": {},
   "outputs": [
    {
     "data": {
      "text/plain": [
       "<tf.Tensor: shape=(10, 56365), dtype=int32, numpy=\n",
       "array([[0, 0, 0, ..., 0, 0, 0],\n",
       "       [0, 0, 0, ..., 0, 0, 0],\n",
       "       [0, 0, 0, ..., 0, 0, 0],\n",
       "       ...,\n",
       "       [0, 0, 0, ..., 0, 0, 0],\n",
       "       [0, 0, 0, ..., 0, 0, 0],\n",
       "       [0, 0, 0, ..., 0, 0, 0]])>"
      ]
     },
     "execution_count": 58,
     "metadata": {},
     "output_type": "execute_result"
    }
   ],
   "source": [
    "# Indicators for words that appear in the sample\n",
    "\n",
    "class_sample = sample[:, chosen_class, :]\n",
    "class_sample"
   ]
  },
  {
   "cell_type": "code",
   "execution_count": 59,
   "metadata": {},
   "outputs": [
    {
     "data": {
      "text/plain": [
       "[array(['09', '19', '23', '28', '31', '34', '35', '41', '78228', 'acs',\n",
       "        'actually', 'advise', 'ages', 'also', 'andrew', 'anyone',\n",
       "        'anything', 'appease', 'apr', 'bathroom', 'bc', 'because',\n",
       "        'beggar', 'believe', 'better', 'bigelow', 'brains', 'chest',\n",
       "        'child', 'claim', 'cleaned', 'commented', 'concepts', 'country',\n",
       "        'day', 'daycare', 'death', 'decided', 'definition', 'detailed',\n",
       "        'difference', 'disciple', 'discuss', 'does', 'emotional',\n",
       "        'encourage', 'even', 'excellent', 'explain', 'faith', 'familiar',\n",
       "        'fellowship', 'forgiven', 'free', 'garnet', 'gentiles', 'go',\n",
       "        'god', 'good', 'growing', 'guess', 'hear', 'heard', 'here', 'him',\n",
       "        'hold', 'honoring', 'however', 'ignore', 'kind', 'knowing', 'last',\n",
       "        'lawrence', 'least', 'legal', 'less', 'life', 'minds', 'moment',\n",
       "        'monotheism', 'must', 'never', 'now', 'offers', 'original', 'our',\n",
       "        'over', 'pa', 'path', 'perception', 'person', 'personally', 'phil',\n",
       "        'political', 'predestination', 'previously', 'problem', 'problems',\n",
       "        'prove', 'punish', 'questionnaire', 'qui', 'quite', 'quote',\n",
       "        'quotes', 'reading', 'real', 'reasonable', 'requirement', 'result',\n",
       "        'reversed', 'say', 'second', 'sense', 'shaken', 'small', 'sons',\n",
       "        'souls', 'span', 'speaking', 'spiritually', 'ssd', 'statements',\n",
       "        'stem', 'still', 'study', 'take', 'talk', 'testament', 'than',\n",
       "        'their', 'them', 'then', 'theories', 'these', 'things', 'think',\n",
       "        'through', 'trying', 'two', 'uk', 'understand', 'us', 'uu4',\n",
       "        'verse', 'very', 'views', 'vituperousness', 'wasn', 'watt', 'way',\n",
       "        'well', 'whose', 'why', 'willing', 'wisdom', 'words', 'world'],\n",
       "       dtype='<U80'),\n",
       " array(['28379', '_is_', 'aaron', 'agree', 'already', 'am', 'another',\n",
       "        'anullments', 'aptly', 'arrogance', 'atheist', 'attributes',\n",
       "        'because', 'belief', 'benefits', 'boring', 'both', 'ca',\n",
       "        'carefully', 'christian', 'christianity', 'come', 'comes',\n",
       "        'compensate', 'course', 'covington', 'daily', 'depends',\n",
       "        'different', 'disagreement', 'done', 'effect', 'effects',\n",
       "        'embarrassed', 'error', 'everyone', 'exactly', 'f16', 'faith',\n",
       "        'far', 'fax', 'find', 'fires', 'found', 'good', 'gospels', 'gov',\n",
       "        'hard', 'harry', 'him', 'his', 'hope', 'imagined', 'into', 'jesus',\n",
       "        'job', 'johnson', 'knew', 'live', 'll', 'made', 'make', 'many',\n",
       "        'mark', 'may', 'means', 'mothers', 'motivate', 'myself',\n",
       "        'mysteries', 'newsgroup', 'nor', 'odd', 'oh', 'omniscience',\n",
       "        'ought', 'overrepresented', 'pardon', 'passed', 'philosophy',\n",
       "        'place', 'possibly', 'prayers', 'pretty', 'psi', 'purpose',\n",
       "        'question', 'random', 'rather', 'resolve', 'revelation', 'rights',\n",
       "        'rock', 'rutgers', 'saint', 'same', 'senses', 'sides', 'speaking',\n",
       "        'steve', 'such', 'take', 'taught', 'than', 'their', 'then',\n",
       "        'things', 'translation', 'tried', 'true', 'turns', 'two', 'until',\n",
       "        'using', 've', 'waco', 'want', 'way', 'whether', 'why', 'word',\n",
       "        'wrong', 'wrongs', 'yahweh', 'yourselves'], dtype='<U80'),\n",
       " array(['03', '34', '_is_', '_source_', 'advanced', 'agree', 'am',\n",
       "        'andrew', 'appropriate', 'april', 'argue', 'arrogance', 'athos',\n",
       "        'authorities', 'aziz', 'become', 'before', 'believe', 'books',\n",
       "        'calendar', 'called', 'case', 'certain', 'certainly', 'clearer',\n",
       "        'comes', 'contradicts', 'covering', 'darius', 'davem', 'delivered',\n",
       "        'derived', 'details', 'developments', 'did', 'die', 'different',\n",
       "        'diverge', 'done', 'engineering', 'espionage', 'even', 'explain',\n",
       "        'fate', 'filled', 'find', 'geneva', 'gregory', 'groping', 'hcx1',\n",
       "        'healy', 'heart', 'here', 'him', 'himself', 'history', 'human',\n",
       "        'intimidating', 'into', 'iscs', 'isn', 'jenk', 'jesus', 'jewish',\n",
       "        'judging', 'keep', 'knowing', 'last', 'let', 'life', 'lying',\n",
       "        'mail', 'making', 'ministry', 'most', 'natural', 'needs', 'never',\n",
       "        'now', 'observations', 'offer', 'ohio', 'pacbell', 'people',\n",
       "        'praxeas', 'praying', 'ps', 'r2d2', 'really', 'refused',\n",
       "        'religion', 'religious', 'reply', 'reprinting', 'require', 'right',\n",
       "        'rights', 'roboticist', 'said', 'san', 'save', 'say',\n",
       "        'shakespeare', 'sharon', 'should', 'sin', 'skidmore', 'soon',\n",
       "        'soul', 'sun', 'talks', 'testifies', 'thank', 'through', 'thus',\n",
       "        'tim', 'trust', 'uk', 'until', 'vbv', 'want', 'wasn', 'watch',\n",
       "        'without', 'witness', 'world', 'yet'], dtype='<U80'),\n",
       " array(['08', '12', '16', '1989', '50', '57', 'accomplish', 'according',\n",
       "        'advocate', 'after', 'aisun3', 'allow', 'answers', 'anyway',\n",
       "        'archbishop', 'before', 'beginning', 'believed', 'best', 'blessed',\n",
       "        'both', 'century', 'child', 'christ', 'christians', 'claim',\n",
       "        'claiming', 'come', 'common', 'compared', 'complete',\n",
       "        'confucianism', 'conjunction', 'could', 'damned', 'dean', 'did',\n",
       "        'difficulty', 'does', 'doing', 'down', 'enabling', 'equivalence',\n",
       "        'even', 'everything', 'evidence', 'excellent', 'eyes', 'find',\n",
       "        'full', 'gboro', 'god', 'grad', 'guild', 'had', 'hand', 'hatred',\n",
       "        'having', 'he', 'heaven', 'heroic', 'however', 'hulman', 'idea',\n",
       "        'important', 'impose', 'incarnate', 'inside', 'inspired',\n",
       "        'instead', 'jeesus', 'jesus', 'john', 'kille', 'kingston', 'later',\n",
       "        'laws', 'made', 'may', 'mdw33310', 'meet', 'minorities', 'most',\n",
       "        'moved', 'name', 'need', 'new', 'niblick', 'nicea', 'occurred',\n",
       "        'often', 'our', 'own', 'participants', 'passion', 'performed',\n",
       "        'personal', 'physical', 'planet', 'probably', 'punishment',\n",
       "        'questioning', 'quotes', 'regarded', 'reid', 'run', 'sabbath',\n",
       "        'same', 'seem', 'seems', 'set', 'shares', 'sloth', 'smith',\n",
       "        'solve', 'something', 'specially', 'strict', 'sufficient',\n",
       "        'superset', 'take', 'taken', 'then', 'things', 'think', 'those',\n",
       "        'told', 'tongue', 'top', 'translators', 'try', 'trying', 'ucs',\n",
       "        'ucsd', 'upon', 'view', 'want', 'ways', 'well', 'were', 'while',\n",
       "        'wise', 'without', 'wittgenstein', 'worship'], dtype='<U80'),\n",
       " array(['03', '08', '11', '122', '15', '17790', '19', '245', '823',\n",
       "        'ability', 'accorded', 'acns', 'ad', 'against', 'also', 'am',\n",
       "        'andrew', 'apr', 'argument', 'ashley', 'assuming', 'athos',\n",
       "        'attention', 'away', 'because', 'been', 'before', 'belief',\n",
       "        'beyond', 'bible', 'books', 'born', 'burnaby', 'capable',\n",
       "        'capacity', 'christ', 'christian', 'christians', 'claim',\n",
       "        'collect', 'college', 'could', 'cover', 'cross', 'crowd', 'cunyvm',\n",
       "        'dead', 'dec', 'delivery', 'deserving', 'difference', 'down',\n",
       "        'effect', 'energy', 'entities', 'equivalent', 'exist',\n",
       "        'explanation', 'facilities', 'far', 'few', 'files', 'firstly',\n",
       "        'follows', 'fundamental', 'garden', 'gets', 'god', 'goes', 'got',\n",
       "        'great', 'grew', 'hale', 'hard', 'he', 'hi', 'him', 'his',\n",
       "        'imitate', 'important', 'incredibly', 'indiana', 'into',\n",
       "        'involved', 'jacob', 'jason', 'john', 'kicking', 'knowing',\n",
       "        'knowledge', 'list', 'look', 'made', 'mail', 'maintaining', 'man',\n",
       "        'mcovingt', 'michael', 'middle', 'mot', 'necessary', 'need', 'new',\n",
       "        'note', 'ohio', 'origins', 'paste', 'perennial', 'please', 'poem',\n",
       "        'possibility', 'presupposes', 'pride', 'question', 'qui', 'reason',\n",
       "        'references', 'rejected', 'reliance', 'response', 'rise',\n",
       "        'rubrics', 'rutgers', 'sarcasm', 'says', 'second', 'see', 'shake',\n",
       "        'should', 'soon', 'specifically', 'spinning', 'spiritual',\n",
       "        'stable', 'stands', 'state', 'statement', 'suppose', 'sure',\n",
       "        'taber', 'take', 'ten', 'their', 'these', 'thought', 'time', 'too',\n",
       "        'try', 'under', 'understanding', 'username', 'vice', 'want',\n",
       "        'warped', 'welcome', 'were', 'whether', 'whole', 'work'],\n",
       "       dtype='<U80'),\n",
       " array(['09', '10', '1835', '1993', '23', '29', '60', '825', '92', '9760',\n",
       "        'able', 'abstinence', 'accept', 'activists', 'agron', 'also',\n",
       "        'anyone', 'apr', 'asked', 'astray', 'because', 'being', 'believe',\n",
       "        'believers', 'bgu', 'bible', 'blindness', 'bob', 'bound',\n",
       "        'building', 'called', 'came', 'canaan', 'christian', 'christians',\n",
       "        'city', 'concern', 'controlled', 'correctly', 'dan', 'danger',\n",
       "        'dean', 'decided', 'descriptions', 'did', 'directions', 'dlecoint',\n",
       "        'doing', 'ending', 'everyone', 'exchanged', 'existence',\n",
       "        'expresses', 'feels', 'fnal', 'founder', 'fully', 'gained',\n",
       "        'garnet', 'genesis', 'genocide', 'georgia', 'given', 'goodbye',\n",
       "        'had', 'hard', 'he', 'him', 'his', 'jemurray', 'jesus', 'johnson',\n",
       "        'joseph', 'kingdom', 'labs', 'lexington', 'line', 'lord', 'matter',\n",
       "        'mean', 'meaning', 'message', 'met', 'motives', 'must', 'name',\n",
       "        'nothing', 'nyu', 'often', 'our', 'perhaps', 'pithy', 'precious',\n",
       "        'precise', 'priests', 'prism', 'prophet', 'purpose', 'put',\n",
       "        'rather', 'resist', 'resurrection', 'rise', 'risk', 'ruthless',\n",
       "        'said', 'say', 'says', 'school', 'search', 'should', 'simply',\n",
       "        'simulation', 'skipper', 'small', 'state', 'statements', 'steven',\n",
       "        'suffering', 'sure', 'talked', 'text', 'them', 'themselves',\n",
       "        'theories', 'time', 'too', 'trinity', 'uga', 'uk', 'uribe', 'use',\n",
       "        'used', 'useful', 'weren', 'wheaton', 'where', 'why', 'wrote',\n",
       "        'yourself'], dtype='<U80'),\n",
       " array(['16', '25', '2a', '_want_', 'actions', 'actually', 'appropriate',\n",
       "        'apr', 'arabs', 'ask', 'been', 'beings', 'big', 'bodies', 'book',\n",
       "        'both', 'bothers', 'boundaries', 'brother', 'ca', 'certainly',\n",
       "        'check', 'christ', 'christianity', 'christians', 'church', 'cia',\n",
       "        'claim', 'classically', 'come', 'concern', 'consultant', 'courant',\n",
       "        'current', 'department', 'didn', 'does', 'doesn', 'doing', 'dont',\n",
       "        'enclosed', 'essence', 'essential', 'ethics', 'everyday', 'faith',\n",
       "        'faiths', 'father', 'filled', 'first', 'forgetting', 'go',\n",
       "        'grabbed', 'grace', 'graduate', 'great', 'hair', 'hard', 'he',\n",
       "        'help', 'here', 'him', 'his', 'hold', 'hopper', 'identify',\n",
       "        'intended', 'intent', 'invention', 'jewish', 'known', 'leave',\n",
       "        'll', 'llo', 'make', 'marriages', 'matthew', 'may', 'must',\n",
       "        'netters', 'never', 'new', 'normal', 'now', 'nt', 'oh',\n",
       "        'oppressing', 'outside', 'party', 'peace', 'perfect', 'quite',\n",
       "        'quoted', 'rabbi', 'read', 'real', 'religions', 'rely', 'repent',\n",
       "        'respect', 'rutgers', 'sabbath', 'same', 'scriptura', 'send',\n",
       "        'shall', 'should', 'something', 'speed', 'st', 'storrs',\n",
       "        'successful', 'such', 'suppose', 'swear', 'than', 'them',\n",
       "        'theologically', 'these', 'those', 'thrust', 'time', 'title',\n",
       "        'truly', 'uchicago', 'ucsd', 'unfortunately', 'vey', 'wanted',\n",
       "        'well', 'whole', 'whom', 'work', 'world', 'wrote'], dtype='<U80'),\n",
       " array(['01', '12', '13', '16', '66', 'able', 'after', 'almost', 'always',\n",
       "        'amen', 'another', 'around', 'aside', 'attack', 'attacking',\n",
       "        'attitudes', 'back', 'badly', 'before', 'being', 'believe',\n",
       "        'better', 'bible', 'biblical', 'bjorn', 'body', 'book', 'books',\n",
       "        'both', 'broken', 'bust', 'caralv', 'carl', 'catholic', 'change',\n",
       "        'coming', 'constantly', 'contrary', 'could', 'cover', 'crazy',\n",
       "        'crucify', 'deleted', 'desiree_bradley', 'destruction', 'discover',\n",
       "        'disparate', 'draw', 'du', 'empire', 'especially', 'eternal',\n",
       "        'everything', 'expressions', 'fact', 'find', 'first', 'founded',\n",
       "        'georgia', 'give', 'god', 'halifax', 'having', 'him', 'his',\n",
       "        'holy', 'horrible', 'however', 'idea', 'implications', 'important',\n",
       "        'info', 'intensive', 'into', 'invited', 'its', 'jesus', 'jono',\n",
       "        'judged', 'last', 'leviticus', 'lie', 'logic', 'longer', 'look',\n",
       "        'mark', 'mentioned', 'michael', 'midway', 'mot', 'music', 'need',\n",
       "        'net', 'next', 'non', 'nothing', 'often', 'opportunity', 'part',\n",
       "        'participation', 'paul', 'people', 'perhaps', 'please', 'possible',\n",
       "        'problem', 'quite', 'read', 'realize', 'really', 'reason',\n",
       "        'relationship', 'relevant', 'reply', 'rest', 'rjs2', 'sacrifice',\n",
       "        'same', 'satisfy', 'scientist', 'section', 'seen', 'sexually',\n",
       "        'share', 'sole', 'something', 'soup', 'spend', 'state', 'sunday',\n",
       "        'suspicion', 'their', 'through', 'today', 'took', 'toungues',\n",
       "        'trivial', 'under', 'understand', 'unisys', 'usenet', 've', 'were',\n",
       "        'whatever', 'whether', 'whosoever', 'wilkerson', 'without', 'word',\n",
       "        'wrong', 'years'], dtype='<U80'),\n",
       " array(['01', '10', '110', '1349', '25', '36', 'above', 'achieve', 'acs',\n",
       "        'afraid', 'andrew', 'anger', 'argument', 'arose', 'athens', 'away',\n",
       "        'basic', 'bear', 'beard', 'because', 'been', 'being', 'bible',\n",
       "        'came', 'carcs1', 'case', 'catholic', 'cbnewsk', 'cheap', 'church',\n",
       "        'claim', 'colorado', 'come', 'comes', 'commit', 'conquer',\n",
       "        'conscience', 'covington', 'cowardice', 'cruelty', 'curious',\n",
       "        'davidian', 'dealt', 'dean', 'deficiencies', 'did', 'difference',\n",
       "        'disproof', 'divisions', 'doing', 'drawer', 'dunedin', 'east',\n",
       "        'effectively', 'either', 'eternity', 'even', 'ever', 'express',\n",
       "        'faith', 'fax', 'few', 'figuring', 'find', 'fold', 'further',\n",
       "        'germanic', 'give', 'god', 'gospel', 'happy', 'hebrews', 'hold',\n",
       "        'honest', 'honor', 'however', 'idea', 'instead', 'involved',\n",
       "        'jesus', 'keys', 'king', 'lay', 'life', 'lived', 'lives', 'll',\n",
       "        'magazine', 'may', 'mean', 'messenger', 'motivate', 'never', 'new',\n",
       "        'north', 'nunez', 'nyc', 'off', 'org', 'particular', 'permission',\n",
       "        'points', 'possible', 'priority', 'reagan', 'really',\n",
       "        'relationship', 'reply', 'require', 'retribution', 'revulsion',\n",
       "        'right', 'rob', 'rome', 'said', 'say', 'scream', 'seems', 'single',\n",
       "        'square', 'starting', 'straightforward', 'such', 'suffering',\n",
       "        'support', 'talks', 'tape', 'than', 'think', 'until', 'values',\n",
       "        'vela', 'verses', 'very', 'views', 'were', 'while', 'whuzzat',\n",
       "        'wording', 'work', 'world'], dtype='<U80'),\n",
       " array(['11', '17', '1993', '54', 'above', 'accidents', 'according',\n",
       "        'agonizing', 'aisun3', 'alive', 'american', 'among', 'andrew',\n",
       "        'anger', 'asking', 'associated', 'ban', 'because', 'being',\n",
       "        'benefit', 'bible', 'both', 'bring', 'cards', 'case', 'ceremony',\n",
       "        'certainly', 'chrisitan', 'christian', 'comments', 'condemnation',\n",
       "        'condemns', 'consign', 'copper', 'cosmic', 'cows', 'dead',\n",
       "        'delivered', 'develop', 'ecn', 'etc', 'eventhough', 'evolution',\n",
       "        'first', 'gets', 'go', 'going', 'got', 'grey', 'happening',\n",
       "        'himself', 'his', 'hmmm', 'hold', 'husband', 'ignore', 'imply',\n",
       "        'interior', 'interprets', 'involve', 'involved', 'jill',\n",
       "        'kulikauskas', 'live', 'local', 'made', 'main', 'man', 'matthew',\n",
       "        'mature', 'may', 'mean', 'meaning', 'mmalt', 'moderator',\n",
       "        'mormonism', 'nationalism', 'network', 'non', 'numb', 'odder',\n",
       "        'once', 'open', 'parents', 'people', 'person', 'pharisees', 'po',\n",
       "        'post', 'potent', 'pretty', 'prof', 'purpose', 'pursue', 'rather',\n",
       "        'really', 'recognise', 'referred', 'relationship', 'reliance',\n",
       "        'results', 'right', 'rutgers', 'satan', 'secular', 'seem', 'sense',\n",
       "        'share', 'she', 'since', 'sinless', 'someplace', 'soon', 'spend',\n",
       "        'stay', 'steven', 'student', 'subjects', 'suited', 'sure',\n",
       "        'symbol', 'technology', 'terrible', 'test', 'than', 'them', 'then',\n",
       "        'things', 'think', 'through', 'tired', 'together', 'trait', 'true',\n",
       "        'trusted', 'until', 'unto', 've', 'velasco', 'version', 'vice',\n",
       "        'week', 'well', 'while', 'why', 'wont', 'wustl'], dtype='<U80')]"
      ]
     },
     "execution_count": 59,
     "metadata": {},
     "output_type": "execute_result"
    }
   ],
   "source": [
    "# Perform inverse transform to test quality of fit\n",
    "\n",
    "count_vectorizer.inverse_transform(class_sample)"
   ]
  },
  {
   "cell_type": "markdown",
   "metadata": {},
   "source": [
    "***\n",
    "<a id='sampling_and_log_probs'></a>\n",
    "## Sampling and log probs"
   ]
  },
  {
   "cell_type": "code",
   "execution_count": 60,
   "metadata": {},
   "outputs": [
    {
     "data": {
      "text/plain": [
       "<tfp.distributions.MultivariateNormalDiag 'MultivariateNormalDiag' batch_shape=[3] event_shape=[2] dtype=float32>"
      ]
     },
     "execution_count": 60,
     "metadata": {},
     "output_type": "execute_result"
    }
   ],
   "source": [
    "# Make Multivariate Distribution\n",
    "\n",
    "normal_distributions = tfd.MultivariateNormalDiag(loc=[[0.5, 1], [0.1, 0], [0, 0.2]],\n",
    "                                 scale_diag=[[2, 3], [1, 3], [4, 4]])\n",
    "normal_distributions"
   ]
  },
  {
   "cell_type": "code",
   "execution_count": 61,
   "metadata": {},
   "outputs": [
    {
     "data": {
      "text/plain": [
       "<tf.Tensor: shape=(5, 3, 2), dtype=float32, numpy=\n",
       "array([[[-0.61642456, -2.6508877 ],\n",
       "        [-0.02484179, -0.58626443],\n",
       "        [-2.384066  , -2.2478259 ]],\n",
       "\n",
       "       [[-1.3702699 ,  9.627965  ],\n",
       "        [ 0.34466884, -2.335009  ],\n",
       "        [-0.6538167 ,  5.7416673 ]],\n",
       "\n",
       "       [[-2.086178  ,  4.7825446 ],\n",
       "        [ 1.154147  , -4.501431  ],\n",
       "        [-4.3120627 ,  0.32013714]],\n",
       "\n",
       "       [[-2.5057547 ,  2.4638143 ],\n",
       "        [-0.11568717, -5.0724864 ],\n",
       "        [ 0.63433516, -0.52497053]],\n",
       "\n",
       "       [[ 1.380878  ,  1.7464799 ],\n",
       "        [ 0.11383934,  1.1534938 ],\n",
       "        [-0.91430813,  2.0012252 ]]], dtype=float32)>"
      ]
     },
     "execution_count": 61,
     "metadata": {},
     "output_type": "execute_result"
    }
   ],
   "source": [
    "# Sample\n",
    "\n",
    "normal_distributions.sample(5)"
   ]
  },
  {
   "cell_type": "code",
   "execution_count": 62,
   "metadata": {},
   "outputs": [
    {
     "data": {
      "text/plain": [
       "<tfp.distributions.MultivariateNormalDiag 'MultivariateNormalDiag' batch_shape=[2, 2] event_shape=[3] dtype=float32>"
      ]
     },
     "execution_count": 62,
     "metadata": {},
     "output_type": "execute_result"
    }
   ],
   "source": [
    "# Multivariate Normal batched Distribution\n",
    "# We are broadcasting batch shapes of `loc` and `scal_diag` \n",
    "# against each other\n",
    "\n",
    "loc = [[[0.3, 1.5, 1.], [0.2, 0.4, 2.8]],\n",
    "        [[2., 2.3, 8], [1.4, 1, 1.3]]]\n",
    "scale_diag = [0.4, 1., 0.7]\n",
    "normal_distributions = tfd.MultivariateNormalDiag(loc=loc, scale_diag=scale_diag)\n",
    "normal_distributions"
   ]
  },
  {
   "cell_type": "code",
   "execution_count": 63,
   "metadata": {},
   "outputs": [
    {
     "data": {
      "text/plain": [
       "<tfp.distributions.Independent 'IndependentMultivariateNormalDiag' batch_shape=[2] event_shape=[2, 3] dtype=float32>"
      ]
     },
     "execution_count": 63,
     "metadata": {},
     "output_type": "execute_result"
    }
   ],
   "source": [
    "# Use independent to move part of the batch shape\n",
    "\n",
    "ind_normal_distributions = tfd.Independent(normal_distributions,\n",
    "                                          reinterpreted_batch_ndims=1)\n",
    "ind_normal_distributions"
   ]
  },
  {
   "cell_type": "code",
   "execution_count": 64,
   "metadata": {},
   "outputs": [
    {
     "data": {
      "text/plain": [
       "TensorShape([5, 2, 2, 3])"
      ]
     },
     "execution_count": 64,
     "metadata": {},
     "output_type": "execute_result"
    }
   ],
   "source": [
    "# Draw some samples\n",
    "\n",
    "samples = ind_normal_distributions.sample(5)\n",
    "samples.shape"
   ]
  },
  {
   "cell_type": "code",
   "execution_count": 65,
   "metadata": {},
   "outputs": [
    {
     "data": {
      "text/plain": [
       "<tf.Tensor: shape=(2,), dtype=float32, numpy=array([-11.756409, -66.098785], dtype=float32)>"
      ]
     },
     "execution_count": 65,
     "metadata": {},
     "output_type": "execute_result"
    }
   ],
   "source": [
    "# `[B, E]` shaped input\n",
    "\n",
    "inp = tf.random.uniform((2, 2, 3))\n",
    "ind_normal_distributions.log_prob(inp)"
   ]
  },
  {
   "cell_type": "code",
   "execution_count": 66,
   "metadata": {},
   "outputs": [
    {
     "data": {
      "text/plain": [
       "<tf.Tensor: shape=(2,), dtype=float32, numpy=array([-11.850761, -76.12896 ], dtype=float32)>"
      ]
     },
     "execution_count": 66,
     "metadata": {},
     "output_type": "execute_result"
    }
   ],
   "source": [
    "# `[E]` shaped input (broadcasting over batch size)\n",
    "\n",
    "inp = tf.random.uniform((2, 3))\n",
    "ind_normal_distributions.log_prob(inp)"
   ]
  },
  {
   "cell_type": "code",
   "execution_count": 67,
   "metadata": {},
   "outputs": [
    {
     "data": {
      "text/plain": [
       "<tf.Tensor: shape=(9, 2), dtype=float32, numpy=\n",
       "array([[ -8.763502 , -74.403946 ],\n",
       "       [ -8.963752 , -78.71576  ],\n",
       "       [-10.053402 , -67.10482  ],\n",
       "       [-10.113637 , -70.84384  ],\n",
       "       [ -8.458472 , -77.99654  ],\n",
       "       [-13.988488 , -74.964966 ],\n",
       "       [ -7.66702  , -65.602325 ],\n",
       "       [-10.51793  , -65.675446 ],\n",
       "       [-11.9138565, -72.61048  ]], dtype=float32)>"
      ]
     },
     "execution_count": 67,
     "metadata": {},
     "output_type": "execute_result"
    }
   ],
   "source": [
    "#`[S, B, E]` shaped input (broadcasting over samples)\n",
    "\n",
    "inp = tf.random.uniform((9, 2, 2, 3))\n",
    "ind_normal_distributions.log_prob(inp)"
   ]
  },
  {
   "cell_type": "code",
   "execution_count": 68,
   "metadata": {},
   "outputs": [
    {
     "data": {
      "text/plain": [
       "<tf.Tensor: shape=(5, 2), dtype=float32, numpy=\n",
       "array([[ -9.843089 , -61.68399  ],\n",
       "       [-10.387953 , -61.109745 ],\n",
       "       [ -9.2092285, -71.7383   ],\n",
       "       [-12.003781 , -83.812454 ],\n",
       "       [ -9.123208 , -68.52439  ]], dtype=float32)>"
      ]
     },
     "execution_count": 68,
     "metadata": {},
     "output_type": "execute_result"
    }
   ],
   "source": [
    "# `[S, b, e]` shaped input, where [b, e] is broadcastable over [B, E]\n",
    "\n",
    "inp = tf.random.uniform((5, 1, 2, 1))\n",
    "ind_normal_distributions.log_prob(inp)"
   ]
  },
  {
   "cell_type": "markdown",
   "metadata": {},
   "source": [
    "#### Naive Bayes example\n",
    "\n",
    "Lets now use what we have learned and continue the Naive Bayes classifier we were building last tutorial."
   ]
  },
  {
   "cell_type": "code",
   "execution_count": 69,
   "metadata": {},
   "outputs": [],
   "source": [
    "from sklearn.datasets import fetch_20newsgroups\n",
    "from sklearn.feature_extraction.text import CountVectorizer\n",
    "from sklearn.naive_bayes import BernoulliNB\n",
    "from sklearn.metrics import f1_score"
   ]
  },
  {
   "cell_type": "code",
   "execution_count": 70,
   "metadata": {},
   "outputs": [],
   "source": [
    "# Making a function get_data which:\n",
    "#   1) Fetches the 20 newsgroup dataset\n",
    "#   2) Performs a word count on the articles and binarizes the result\n",
    "#   3) Returns the data as a numpy matrix with the labels\n",
    "\n",
    "def get_data(categories):\n",
    "    \n",
    "    newsgroups_train_data = fetch_20newsgroups(data_home='20_Newsgroup_Data/',\n",
    "                                               subset='train', categories=categories)\n",
    "    newsgroups_test_data = fetch_20newsgroups(data_home='20_Newsgroup_Data/',\n",
    "                                              subset='test', categories=categories)\n",
    "\n",
    "    n_documents = len(newsgroups_train_data['data'])\n",
    "    count_vectorizer = CountVectorizer(input='content', binary=True,max_df=0.25, min_df=1.01/n_documents)\n",
    "    \n",
    "    train_binary_bag_of_words = count_vectorizer.fit_transform(newsgroups_train_data['data'])\n",
    "    test_binary_bag_of_words = count_vectorizer.transform(newsgroups_test_data['data']) \n",
    "\n",
    "    return (train_binary_bag_of_words.todense(), newsgroups_train_data['target']),  (test_binary_bag_of_words.todense(), newsgroups_test_data['target'])"
   ]
  },
  {
   "cell_type": "code",
   "execution_count": 71,
   "metadata": {},
   "outputs": [],
   "source": [
    "# Defining a function to conduct Laplace smoothing. This adds a base level of probability for a given feature\n",
    "# to occur in every class.\n",
    "\n",
    "def laplace_smoothing(labels, binary_data, n_classes):\n",
    "    # Compute the parameter estimates (adjusted fraction of documents in class that contain word)\n",
    "    n_words = binary_data.shape[1]\n",
    "    alpha = 1 # parameters for Laplace smoothing\n",
    "    theta = np.zeros([n_classes, n_words]) # stores parameter values - prob. word given class\n",
    "    for c_k in range(n_classes): # 0, 1, ..., 19\n",
    "        class_mask = (labels == c_k)\n",
    "        N = class_mask.sum() # number of articles in class\n",
    "        theta[c_k, :] = (binary_data[class_mask, :].sum(axis=0) + alpha)/(N + alpha*2)\n",
    "\n",
    "    return theta"
   ]
  },
  {
   "cell_type": "code",
   "execution_count": 72,
   "metadata": {},
   "outputs": [],
   "source": [
    "# Getting a subset of the 20 newsgroup dataset\n",
    "\n",
    "categories = ['alt.atheism', 'talk.religion.misc', 'comp.graphics', 'sci.space']\n",
    "\n",
    "(train_data, train_labels), (test_data, test_labels) = get_data(categories=categories)\n",
    "smoothed_counts = laplace_smoothing(labels=train_labels, binary_data=train_data, n_classes=len(categories))"
   ]
  },
  {
   "cell_type": "markdown",
   "metadata": {},
   "source": [
    "To now make our NB classifier we need to build three functions:\n",
    "* Compute the class priors\n",
    "* Build our class conditional distributions\n",
    "* Put it all together and classify our data"
   ]
  },
  {
   "cell_type": "code",
   "execution_count": 73,
   "metadata": {},
   "outputs": [],
   "source": [
    "# Function which computes the prior probability of every class based on frequency of occurence in \n",
    "# the dataset\n",
    "\n",
    "def class_priors(n_classes, labels):\n",
    "    counts = np.zeros(n_classes)\n",
    "    for c_k in range(n_classes):\n",
    "        counts[c_k] = np.sum(np.where(labels==c_k, 1, 0))\n",
    "    priors = counts / np.sum(counts)\n",
    "    print('The class priors are {}'.format(priors))\n",
    "    return priors"
   ]
  },
  {
   "cell_type": "code",
   "execution_count": 74,
   "metadata": {},
   "outputs": [
    {
     "name": "stdout",
     "output_type": "stream",
     "text": [
      "The class priors are [0.2359882  0.28711898 0.29154376 0.18534907]\n"
     ]
    }
   ],
   "source": [
    "# Run the function \n",
    "\n",
    "priors = class_priors(n_classes=len(categories), labels=train_labels)"
   ]
  },
  {
   "cell_type": "code",
   "execution_count": 75,
   "metadata": {},
   "outputs": [
    {
     "data": {
      "text/plain": [
       "<tfp.distributions.Independent 'IndependentBernoulli' batch_shape=[4] event_shape=[17495] dtype=int32>"
      ]
     },
     "execution_count": 75,
     "metadata": {},
     "output_type": "execute_result"
    }
   ],
   "source": [
    "# Now we will do a function that given the feature occurence counts returns a Bernoulli distribution of \n",
    "# batch_shape=number of classes and event_shape=number of features.\n",
    "\n",
    "def make_distribution(probs):\n",
    "    batch_of_bernoullis = tfd.Bernoulli(probs=probs)\n",
    "    dist = tfd.Independent(batch_of_bernoullis,\n",
    "                           reinterpreted_batch_ndims=1)\n",
    "    return dist\n",
    "\n",
    "tf_dist = make_distribution(smoothed_counts)\n",
    "tf_dist"
   ]
  },
  {
   "cell_type": "code",
   "execution_count": 76,
   "metadata": {},
   "outputs": [],
   "source": [
    "# The final function predict_sample which given the distribution, a test sample, and the class priors:\n",
    "#   1) Computes the class conditional probabilities given the sample\n",
    "#   2) Forms the joint likelihood\n",
    "#   3) Normalises the joint likelihood and returns the log prob\n",
    "\n",
    "def predict_sample(dist, sample, priors):\n",
    "    cond_probs = dist.log_prob(sample)\n",
    "    join_likelihood = tf.add(np.log(priors, dtype=np.float32), cond_probs)\n",
    "    norm_factor = tf.math.reduce_logsumexp(join_likelihood, axis=-1, keepdims=True)\n",
    "    log_prob = join_likelihood - norm_factor\n",
    "    \n",
    "    return log_prob"
   ]
  },
  {
   "cell_type": "markdown",
   "metadata": {},
   "source": [
    "#### Computing log_probs"
   ]
  },
  {
   "cell_type": "code",
   "execution_count": 77,
   "metadata": {},
   "outputs": [
    {
     "data": {
      "text/plain": [
       "<tf.Tensor: shape=(4,), dtype=float32, numpy=\n",
       "array([-6.1736343e+01, -1.5258789e-05, -1.1620026e+01, -6.3327866e+01],\n",
       "      dtype=float32)>"
      ]
     },
     "execution_count": 77,
     "metadata": {},
     "output_type": "execute_result"
    }
   ],
   "source": [
    "# Predicting one example from our test data\n",
    "\n",
    "log_probs = predict_sample(tf_dist, test_data[0], priors)\n",
    "log_probs"
   ]
  },
  {
   "cell_type": "code",
   "execution_count": 78,
   "metadata": {},
   "outputs": [
    {
     "name": "stdout",
     "output_type": "stream",
     "text": [
      "f1  0.7848499112849504\n"
     ]
    }
   ],
   "source": [
    "# Loop over our test data and classify.\n",
    "\n",
    "probabilities = []\n",
    "for sample, label in zip(test_data, test_labels):\n",
    "    probabilities.append(tf.exp(predict_sample(tf_dist, sample, priors)))\n",
    "\n",
    "probabilities = np.asarray(probabilities)\n",
    "predicted_classes = np.argmax(probabilities, axis =-1)\n",
    "print('f1 ', f1_score(test_labels, predicted_classes, average='macro'))"
   ]
  },
  {
   "cell_type": "code",
   "execution_count": 79,
   "metadata": {},
   "outputs": [
    {
     "name": "stdout",
     "output_type": "stream",
     "text": [
      "f1 from sklean  0.7848499112849504\n"
     ]
    }
   ],
   "source": [
    "# Make a Bernoulli Naive Bayes classifier using sklearn with the same level of alpha smoothing. \n",
    "\n",
    "clf = BernoulliNB(alpha=1)\n",
    "clf.fit(train_data, train_labels)\n",
    "pred = clf.predict(test_data)\n",
    "print('f1 from sklean ', f1_score(test_labels, pred, average='macro'))"
   ]
  },
  {
   "cell_type": "markdown",
   "metadata": {},
   "source": [
    "***\n",
    "<a id='trainable_distributions'></a>\n",
    "## Trainable Distributions"
   ]
  },
  {
   "cell_type": "code",
   "execution_count": 80,
   "metadata": {},
   "outputs": [],
   "source": [
    "from sklearn.datasets import fetch_20newsgroups\n",
    "from sklearn.feature_extraction.text import CountVectorizer\n",
    "from sklearn.naive_bayes import BernoulliNB\n",
    "from sklearn.metrics import f1_score"
   ]
  },
  {
   "cell_type": "code",
   "execution_count": 81,
   "metadata": {},
   "outputs": [],
   "source": [
    "# Define an exponential distribution\n",
    "\n",
    "exponential = tfd.Exponential(rate=0.3, name='exp')"
   ]
  },
  {
   "cell_type": "code",
   "execution_count": 82,
   "metadata": {},
   "outputs": [
    {
     "data": {
      "image/png": "[encoded data removed]",
      "text/plain": [
       "<Figure size 432x288 with 1 Axes>"
      ]
     },
     "metadata": {
      "needs_background": "light"
     },
     "output_type": "display_data"
    }
   ],
   "source": [
    "# Plot\n",
    "\n",
    "plt.hist(exponential.sample(5000).numpy(), bins=100, density=True)\n",
    "plt.show()"
   ]
  },
  {
   "cell_type": "code",
   "execution_count": 83,
   "metadata": {},
   "outputs": [],
   "source": [
    "# Define an exponential distribution with a trainable rate parameter\n",
    "\n",
    "exp_train = tfd.Exponential(rate=tf.Variable(1., name='rate'), name='exp_train')"
   ]
  },
  {
   "cell_type": "code",
   "execution_count": 84,
   "metadata": {},
   "outputs": [],
   "source": [
    "# Define the negative log likelihood\n",
    "\n",
    "def nll(x_train, distribution):\n",
    "    return -tf.reduce_mean(distribution.log_prob(x_train))"
   ]
  },
  {
   "cell_type": "code",
   "execution_count": 85,
   "metadata": {},
   "outputs": [],
   "source": [
    "# Define a function to compute the loss and gradients\n",
    "\n",
    "@tf.function\n",
    "def get_loss_and_grads(x_train, distribution):\n",
    "    with tf.GradientTape() as tape:\n",
    "        tape.watch(distribution.trainable_variables)\n",
    "        loss = nll(x_train, distribution)\n",
    "        grads = tape.gradient(loss, distribution.trainable_variables)\n",
    "    return loss, grads"
   ]
  },
  {
   "cell_type": "code",
   "execution_count": 86,
   "metadata": {},
   "outputs": [],
   "source": [
    "# Optimize\n",
    "\n",
    "def exponential_dist_optimisation(data, distribution):\n",
    "\n",
    "    # Keep results for plotting\n",
    "    train_loss_results = []\n",
    "    train_rate_results = []\n",
    "    \n",
    "    optimizer = tf.keras.optimizers.SGD(learning_rate=0.05)\n",
    "\n",
    "    num_steps = 10\n",
    "\n",
    "    for i in range(num_steps):\n",
    "        loss, grads = get_loss_and_grads(data, distribution)\n",
    "        optimizer.apply_gradients(zip(grads, distribution.trainable_variables))\n",
    "\n",
    "        rate_value = distribution.rate.value()\n",
    "        train_loss_results.append(loss)\n",
    "        train_rate_results.append(rate_value)\n",
    "\n",
    "        print(\"Step {:03d}: Loss: {:.3f}: Rate: {:.3f}\".format(i, loss, rate_value))\n",
    "        \n",
    "    return train_loss_results, train_rate_results"
   ]
  },
  {
   "cell_type": "code",
   "execution_count": 87,
   "metadata": {},
   "outputs": [
    {
     "name": "stdout",
     "output_type": "stream",
     "text": [
      "Step 000: Loss: 3.377: Rate: 0.881\n",
      "Step 001: Loss: 3.102: Rate: 0.769\n",
      "Step 002: Loss: 2.860: Rate: 0.665\n",
      "Step 003: Loss: 2.654: Rate: 0.572\n",
      "Step 004: Loss: 2.490: Rate: 0.490\n",
      "Step 005: Loss: 2.368: Rate: 0.423\n",
      "Step 006: Loss: 2.289: Rate: 0.373\n",
      "Step 007: Loss: 2.246: Rate: 0.338\n",
      "Step 008: Loss: 2.226: Rate: 0.317\n",
      "Step 009: Loss: 2.219: Rate: 0.306\n"
     ]
    }
   ],
   "source": [
    "# Get some data and train\n",
    "\n",
    "sampled_data = exponential.sample(5000)\n",
    "train_loss_results, train_rate_results = exponential_dist_optimisation(data=sampled_data, distribution=exp_train)"
   ]
  },
  {
   "cell_type": "code",
   "execution_count": 88,
   "metadata": {},
   "outputs": [
    {
     "name": "stdout",
     "output_type": "stream",
     "text": [
      "Exact rate:  0.3\n",
      "Pred rate:   0.30588725\n"
     ]
    }
   ],
   "source": [
    "# Predicted value for the rate parameter\n",
    "\n",
    "pred_value = exp_train.rate.numpy()\n",
    "exact_value = exponential.rate.numpy()\n",
    "\n",
    "print(\"Exact rate: \", exact_value)\n",
    "print(\"Pred rate:  \", pred_value)"
   ]
  },
  {
   "cell_type": "code",
   "execution_count": 89,
   "metadata": {},
   "outputs": [
    {
     "data": {
      "image/png": "[encoded data removed]",
      "text/plain": [
       "<Figure size 864x576 with 2 Axes>"
      ]
     },
     "metadata": {
      "needs_background": "light"
     },
     "output_type": "display_data"
    }
   ],
   "source": [
    "# Plot to see the convergence of the estimated and true parameters\n",
    "\n",
    "tensor_exact_value = tf.constant(exact_value, shape=[len(train_rate_results)]).numpy()\n",
    "\n",
    "fig, axes = plt.subplots(2, sharex=True, figsize=(12, 8))\n",
    "fig.suptitle('Convergence')\n",
    "\n",
    "axes[0].set_ylabel(\"Loss\", fontsize=14)\n",
    "axes[0].plot(train_loss_results)\n",
    "\n",
    "axes[1].set_ylabel(\"Rate\", fontsize=14)\n",
    "axes[1].set_xlabel(\"Epoch\", fontsize=14)\n",
    "axes[1].plot(train_rate_results, label='trainable rate variable')\n",
    "axes[1].plot(tensor_exact_value, label='exact rate')\n",
    "axes[1].legend()\n",
    "plt.show()"
   ]
  },
  {
   "cell_type": "code",
   "execution_count": 90,
   "metadata": {},
   "outputs": [],
   "source": [
    "# Making a function get_data which:\n",
    "#   1) Fetches the 20 newsgroup dataset\n",
    "#   2) Performs a word count on the articles and binarizes the result\n",
    "#   3) Returns the data as a numpy matrix with the labels\n",
    "\n",
    "def get_data(categories):\n",
    "\n",
    "    newsgroups_train_data = fetch_20newsgroups(data_home='20_Newsgroup_Data/',\n",
    "                                               subset='train', categories=categories)\n",
    "    newsgroups_test_data = fetch_20newsgroups(data_home='20_Newsgroup_Data/',\n",
    "                                              subset='test', categories=categories)\n",
    "\n",
    "    n_documents = len(newsgroups_train_data['data'])\n",
    "    count_vectorizer = CountVectorizer(input='content', binary=True,max_df=0.25, min_df=1.01/n_documents) \n",
    "    train_binary_bag_of_words = count_vectorizer.fit_transform(newsgroups_train_data['data']) \n",
    "    test_binary_bag_of_words = count_vectorizer.transform(newsgroups_test_data['data']) \n",
    "\n",
    "    return (train_binary_bag_of_words.todense(), newsgroups_train_data['target']),  (test_binary_bag_of_words.todense(), newsgroups_test_data['target'])\n"
   ]
  },
  {
   "cell_type": "code",
   "execution_count": 91,
   "metadata": {},
   "outputs": [],
   "source": [
    "# Defining a function to conduct laplace smoothing. This adds a base level of probability for a given feature\n",
    "# to occur in every class.\n",
    "\n",
    "def laplace_smoothing(labels, binary_data, n_classes):\n",
    "    # Compute the parameter estimates (adjusted fraction of documents in class that contain word)\n",
    "    n_words = binary_data.shape[1]\n",
    "    alpha = 1 # parameters for Laplace smoothing\n",
    "    theta = np.zeros([n_classes, n_words]) # stores parameter values - prob. word given class\n",
    "    for c_k in range(n_classes): # 0, 1, ..., 19\n",
    "        class_mask = (labels == c_k)\n",
    "        N = class_mask.sum() # number of articles in class\n",
    "        theta[c_k, :] = (binary_data[class_mask, :].sum(axis=0) + alpha)/(N + alpha*2)\n",
    "\n",
    "    return theta"
   ]
  },
  {
   "cell_type": "code",
   "execution_count": 92,
   "metadata": {},
   "outputs": [],
   "source": [
    "# Now we will do a function that given the feature occurence counts returns a Bernoulli distribution of \n",
    "# batch_shape=number of classes and event_shape=number of features.\n",
    "\n",
    "def make_distributions(probs):\n",
    "    batch_of_bernoullis = tfd.Bernoulli(probs=probs) # shape (n_classes, n_words)\n",
    "    dist = tfd.Independent(batch_of_bernoullis, reinterpreted_batch_ndims=1)\n",
    "    return dist"
   ]
  },
  {
   "cell_type": "code",
   "execution_count": 93,
   "metadata": {},
   "outputs": [],
   "source": [
    "# Function which computes the prior probability of every class based on frequency of occurence in \n",
    "# the dataset\n",
    "\n",
    "def class_priors(n_classes, labels):\n",
    "    counts = np.zeros(n_classes)\n",
    "    for c_k in range(n_classes):\n",
    "        counts[c_k] = np.sum(np.where(labels==c_k, 1, 0))\n",
    "    priors = counts / np.sum(counts)\n",
    "    print('The class priors are {}'.format(priors))\n",
    "    return priors"
   ]
  },
  {
   "cell_type": "code",
   "execution_count": 94,
   "metadata": {},
   "outputs": [],
   "source": [
    "# The final function predict_sample which given the distribution, a test sample, and the class priors:\n",
    "#   1) Computes the class conditional probabilities given the sample\n",
    "#   2) Forms the joint likelihood\n",
    "#   3) Normalises the joint likelihood and returns the log prob\n",
    "\n",
    "def predict_sample(dist, sample, priors):\n",
    "    cond_probs = dist.log_prob(sample)\n",
    "    joint_likelihood = tf.add(np.log(priors, dtype=np.float32), cond_probs)\n",
    "    norm_factor = tf.math.reduce_logsumexp(joint_likelihood, axis=-1, keepdims=True)\n",
    "    log_prob = joint_likelihood - norm_factor\n",
    "\n",
    "    return log_prob"
   ]
  },
  {
   "cell_type": "code",
   "execution_count": 95,
   "metadata": {},
   "outputs": [],
   "source": [
    "# Now we learn the distribution using gradient tape\n",
    "\n",
    "def make_distribution_withGT(data, labels, nb_classes):\n",
    "\n",
    "    class_data = []\n",
    "    train_vars = []\n",
    "    distributions = []\n",
    "    for c in range(nb_classes):\n",
    "        train_vars.append(tf.Variable(initial_value=np.random.uniform(low=0.01, high =0.1, size=data.shape[-1])))\n",
    "        distributions.append(tfd.Bernoulli(probs=train_vars[c]))\n",
    "        class_mask = (labels == c)\n",
    "        class_data.append(data[class_mask, :])\n",
    "\n",
    "    for c_num in range(0,nb_classes):\n",
    "        optimizer = tf.keras.optimizers.Adam()\n",
    "        print('\\n%-------------------%')\n",
    "        print('Class ', c_num)\n",
    "        print('%-------------------%')\n",
    "\n",
    "        for i in range(0,100):\n",
    "            loss, grads = get_loss_and_grads(class_data[c_num], distributions[c_num])\n",
    "            if (i % 10 == 0):\n",
    "                print('iter: {} loss: {}'.format(i, loss))\n",
    "            optimizer.apply_gradients(zip(grads, distributions[c_num].trainable_variables))\n",
    "            eta = 1e-3\n",
    "            clipped_probs = tf.clip_by_value(distributions[c_num].trainable_variables,\n",
    "                                            clip_value_min=eta, clip_value_max=1)\n",
    "            train_vars[c_num] = tf.squeeze(clipped_probs)\n",
    "    dist = tfd.Bernoulli(probs=train_vars)\n",
    "    dist = tfd.Independent(dist, reinterpreted_batch_ndims=1)\n",
    "\n",
    "    print(dist)\n",
    "\n",
    "    return dist"
   ]
  },
  {
   "cell_type": "code",
   "execution_count": 96,
   "metadata": {},
   "outputs": [
    {
     "name": "stdout",
     "output_type": "stream",
     "text": [
      "The class priors are [0.2359882  0.28711898 0.29154376 0.18534907]\n"
     ]
    }
   ],
   "source": [
    "# Make the same Naive Bayes classifier we did last tutorial\n",
    "\n",
    "categories = ['alt.atheism', 'talk.religion.misc', 'comp.graphics', 'sci.space']\n",
    "\n",
    "(train_data, train_labels), (test_data, test_labels) = get_data(categories)\n",
    "\n",
    "smoothed_counts = laplace_smoothing(labels=train_labels, binary_data=train_data, n_classes=len(categories))\n",
    "\n",
    "priors = class_priors(n_classes=len(categories), labels=train_labels)\n",
    "tf_dist = make_distributions(smoothed_counts)"
   ]
  },
  {
   "cell_type": "code",
   "execution_count": 97,
   "metadata": {},
   "outputs": [
    {
     "name": "stdout",
     "output_type": "stream",
     "text": [
      "\n",
      "%-------------------%\n",
      "Class  0\n",
      "%-------------------%\n",
      "iter: 0 loss: 0.07821405455894415\n",
      "iter: 10 loss: 0.0688506807614005\n",
      "iter: 20 loss: 0.06013300712185681\n",
      "iter: 30 loss: 0.0520733983321379\n",
      "iter: 40 loss: 0.044621726324384985\n",
      "iter: 50 loss: 0.03772942617307321\n",
      "iter: 60 loss: 0.03135845293257446\n",
      "iter: 70 loss: 0.025462625642949224\n",
      "iter: 80 loss: 0.019995791908501325\n",
      "iter: 90 loss: 0.014913898639156084\n",
      "\n",
      "%-------------------%\n",
      "Class  1\n",
      "%-------------------%\n",
      "iter: 0 loss: 0.07144945245196595\n",
      "iter: 10 loss: 0.06210041818597234\n",
      "iter: 20 loss: 0.05332601651500701\n",
      "iter: 30 loss: 0.04518235451280465\n",
      "iter: 40 loss: 0.03764389147218574\n",
      "iter: 50 loss: 0.030670513098342525\n",
      "iter: 60 loss: 0.024220311570279242\n",
      "iter: 70 loss: 0.018250091650917916\n",
      "iter: 80 loss: 0.012732510100251051\n",
      "iter: 90 loss: 0.007626584260086085\n",
      "\n",
      "%-------------------%\n",
      "Class  2\n",
      "%-------------------%\n",
      "iter: 0 loss: 0.07845281601580585\n",
      "iter: 10 loss: 0.06937019764559192\n",
      "iter: 20 loss: 0.06099538756320323\n",
      "iter: 30 loss: 0.05334971062446171\n",
      "iter: 40 loss: 0.04640263180337437\n",
      "iter: 50 loss: 0.04010843011147571\n",
      "iter: 60 loss: 0.03441847136823499\n",
      "iter: 70 loss: 0.029285995430594135\n",
      "iter: 80 loss: 0.024668250852706936\n",
      "iter: 90 loss: 0.02051530341396814\n",
      "\n",
      "%-------------------%\n",
      "Class  3\n",
      "%-------------------%\n",
      "iter: 0 loss: 0.08005233605750468\n",
      "iter: 10 loss: 0.07076525883181253\n",
      "iter: 20 loss: 0.06211249031141133\n",
      "iter: 30 loss: 0.05410875303434056\n",
      "iter: 40 loss: 0.04669826586992509\n",
      "iter: 50 loss: 0.039834227031264095\n",
      "iter: 60 loss: 0.0334725287947917\n",
      "iter: 70 loss: 0.027573711965813798\n",
      "iter: 80 loss: 0.022102183646832516\n",
      "iter: 90 loss: 0.016990516193678456\n",
      "tfp.distributions.Independent(\"IndependentBernoulli\", batch_shape=[4], event_shape=[17495], dtype=int32)\n"
     ]
    }
   ],
   "source": [
    "# Now train the distributions with gradient tape\n",
    "\n",
    "GT_dist = make_distribution_withGT(data=train_data, labels=train_labels, nb_classes=4)"
   ]
  },
  {
   "cell_type": "code",
   "execution_count": 98,
   "metadata": {},
   "outputs": [
    {
     "name": "stdout",
     "output_type": "stream",
     "text": [
      "f1  0.8279812953549276\n",
      "f1  0.7848499112849504\n"
     ]
    }
   ],
   "source": [
    "# Compare the two results\n",
    "\n",
    "for dist in [GT_dist,tf_dist]:\n",
    "    probabilities = []\n",
    "    for sample, label in zip(test_data, test_labels):\n",
    "        probabilities.append(predict_sample(dist, sample, priors))\n",
    "\n",
    "    probabilities = np.asarray(probabilities)\n",
    "    predicted_classes = np.argmax(probabilities, axis =-1)\n",
    "    print('f1 ', f1_score(test_labels, predicted_classes, average='macro'))"
   ]
  }
 ],
 "metadata": {
  "kernelspec": {
   "display_name": "Python 3 (ipykernel)",
   "language": "python",
   "name": "python3"
  },
  "language_info": {
   "codemirror_mode": {
    "name": "ipython",
    "version": 3
   },
   "file_extension": ".py",
   "mimetype": "text/x-python",
   "name": "python",
   "nbconvert_exporter": "python",
   "pygments_lexer": "ipython3",
   "version": "3.9.7"
  }
 },
 "nbformat": 4,
 "nbformat_minor": 4
}
